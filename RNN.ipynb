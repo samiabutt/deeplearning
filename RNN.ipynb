{
  "nbformat": 4,
  "nbformat_minor": 0,
  "metadata": {
    "kernelspec": {
      "display_name": "Python 3",
      "language": "python",
      "name": "python3"
    },
    "language_info": {
      "codemirror_mode": {
        "name": "ipython",
        "version": 3
      },
      "file_extension": ".py",
      "mimetype": "text/x-python",
      "name": "python",
      "nbconvert_exporter": "python",
      "pygments_lexer": "ipython3",
      "version": "3.7.7"
    },
    "colab": {
      "name": "resubmission-sambu064-RNN_Lab.ipynb",
      "provenance": [],
      "collapsed_sections": [],
      "toc_visible": true
    }
  },
  "cells": [
    {
      "cell_type": "markdown",
      "metadata": {
        "id": "3scD8rkLe-vq",
        "colab_type": "text"
      },
      "source": [
        "# Part-of-Speech Tagging with Recurrent Neural Networks"
      ]
    },
    {
      "cell_type": "markdown",
      "metadata": {
        "id": "oCd5IGoqe-vs",
        "colab_type": "text"
      },
      "source": [
        "Your task in this assignment is to implement a simple part-of-speech tagger based on recurrent neural networks."
      ]
    },
    {
      "cell_type": "markdown",
      "metadata": {
        "id": "TuxGjUnRe-vu",
        "colab_type": "text"
      },
      "source": [
        "## Problem specification"
      ]
    },
    {
      "cell_type": "markdown",
      "metadata": {
        "id": "jaqobJTRe-vv",
        "colab_type": "text"
      },
      "source": [
        "Your task in this assignment is\n",
        "\n",
        "1. to build a part-of-speech tagger based on a recurrent neural network architecture\n",
        "2. to train this tagger on the provided training data and identify a good model\n",
        "2. to evaluate the performance of this model on the provided test data\n",
        "\n",
        "To identify a good model, you can use the provided development (validation) data."
      ]
    },
    {
      "cell_type": "markdown",
      "metadata": {
        "id": "-04D0QfQe-vx",
        "colab_type": "text"
      },
      "source": [
        "## Part-of-speech tagging"
      ]
    },
    {
      "cell_type": "markdown",
      "metadata": {
        "id": "6uprVpS6e-vz",
        "colab_type": "text"
      },
      "source": [
        "Part-of-speech (POS) tagging is the task of labelling words (tokens) with [parts of speech](https://en.wikipedia.org/wiki/Part_of_speech). To give an example, consider the  sentence *Parker hates parsnips*. In this sentence, the word *Parker* should be labelled as a proper noun (a noun that is the name of a person), *hates* should be labelled as a verb, and *parsnips* should be labelled as a (common) noun. Part-of-speech tagging is an essential ingredient of many state-of-the-art natural language understanding systems.\n",
        "\n",
        "Part-of-speech tagging can be cast as a supervised machine learning problem where the gold-standard data consists of sentences whose words have been manually annotated with parts of speech. For the present assignment you will be using a corpus built over the source material of the [English Web Treebank](https://catalog.ldc.upenn.edu/ldc2012t13), consisting of approximately 16,000&nbsp;sentences with 254,000&nbsp;tokens. The corpus has been released by the [Universal Dependencies Project](http://universaldependencies.org).\n",
        "\n",
        "To make it easier to compare systems, the gold-standard data has been split into three parts: training, development (validation), and test. The following cell provides a function that can be used to load the data."
      ]
    },
    {
      "cell_type": "code",
      "metadata": {
        "id": "Qv0vmnCAe-v1",
        "colab_type": "code",
        "colab": {}
      },
      "source": [
        "def read_data(path):\n",
        "    with open(path, encoding='utf-8') as fp:\n",
        "        result = []\n",
        "        for line in fp:\n",
        "            line = line.rstrip()\n",
        "            if len(line) == 0:\n",
        "                yield result\n",
        "                result = []\n",
        "            elif not line.startswith('#'):\n",
        "                columns = line.split()\n",
        "                if columns[0].isdigit():\n",
        "                    result.append((columns[1], columns[3]))"
      ],
      "execution_count": 0,
      "outputs": []
    },
    {
      "cell_type": "markdown",
      "metadata": {
        "id": "Vgww6Xpbe-v7",
        "colab_type": "text"
      },
      "source": [
        "The next cell loads the data:"
      ]
    },
    {
      "cell_type": "code",
      "metadata": {
        "id": "WnFmBIAHe-v7",
        "colab_type": "code",
        "outputId": "66f379e5-72d3-49d8-c7d5-0e0dcbbe559c",
        "colab": {
          "base_uri": "https://localhost:8080/",
          "height": 68
        }
      },
      "source": [
        "train_data = list(read_data('en_ewt-ud-train.conllu'))\n",
        "print('Number of sentences in the training data: {}'.format(len(train_data)))\n",
        "\n",
        "dev_data = list(read_data('en_ewt-ud-dev.conllu'))\n",
        "print('Number of sentences in the development data: {}'.format(len(dev_data)))\n",
        "\n",
        "test_data = list(read_data('en_ewt-ud-test.conllu'))\n",
        "print('Number of sentences in the test data: {}'.format(len(test_data)))"
      ],
      "execution_count": 55,
      "outputs": [
        {
          "output_type": "stream",
          "text": [
            "Number of sentences in the training data: 12543\n",
            "Number of sentences in the development data: 2002\n",
            "Number of sentences in the test data: 2077\n"
          ],
          "name": "stdout"
        }
      ]
    },
    {
      "cell_type": "markdown",
      "metadata": {
        "id": "YKHdKlAke-wD",
        "colab_type": "text"
      },
      "source": [
        "From a Python perspective, each of the data sets is a list of what we shall refer to as *tagged sentences*. A tagged sentence, in turn, is a list of pairs $(w,t)$, where $w$ is a word token and $t$ is the word&rsquo;s POS tag. Here is an example from the training data to show you how this looks like:"
      ]
    },
    {
      "cell_type": "code",
      "metadata": {
        "id": "BIvhKzcse-wE",
        "colab_type": "code",
        "outputId": "4e4ae006-2ef1-409e-ea65-e3b4f8428eb3",
        "colab": {
          "base_uri": "https://localhost:8080/",
          "height": 238
        }
      },
      "source": [
        "train_data[42]"
      ],
      "execution_count": 56,
      "outputs": [
        {
          "output_type": "execute_result",
          "data": {
            "text/plain": [
              "[('There', 'PRON'),\n",
              " ('has', 'AUX'),\n",
              " ('been', 'VERB'),\n",
              " ('talk', 'NOUN'),\n",
              " ('that', 'SCONJ'),\n",
              " ('the', 'DET'),\n",
              " ('night', 'NOUN'),\n",
              " ('curfew', 'NOUN'),\n",
              " ('might', 'AUX'),\n",
              " ('be', 'AUX'),\n",
              " ('implemented', 'VERB'),\n",
              " ('again', 'ADV'),\n",
              " ('.', 'PUNCT')]"
            ]
          },
          "metadata": {
            "tags": []
          },
          "execution_count": 56
        }
      ]
    },
    {
      "cell_type": "markdown",
      "metadata": {
        "id": "EeTI90Hke-wL",
        "colab_type": "text"
      },
      "source": [
        "You will see part-of-speech tags such as `VERB` for verb, `NOUN` for noun, and `ADV` for adverb. If you are interested in learning more about the tag set used in the gold-standard data, you can have a look at the documentation of the [Universal POS tags](http://universaldependencies.org/u/pos/all.html). However, you do not need to understand the meaning of the POS tags to solve this assignment; you can simply treat them as labels drawn from a finite set of alternatives."
      ]
    },
    {
      "cell_type": "markdown",
      "metadata": {
        "id": "PVer5gOQe-wM",
        "colab_type": "text"
      },
      "source": [
        "## Network architecture"
      ]
    },
    {
      "cell_type": "markdown",
      "metadata": {
        "id": "tzgV_AMRe-wN",
        "colab_type": "text"
      },
      "source": [
        "The proposed network architecture for your tagger is a sequential model with three layers, illustrated below: an embedding, a bidirectional LSTM, and a softmax layer. The embedding turns word indexes (integers representing words) into fixed-size dense vectors which are then fed into the bidirectional LSTM. The output of the LSTM at each position of the sentence is passed to a softmax layer which predicts the POS tag for the word at that position.\n",
        "\n",
        "![architecture.png](attachment:architecture.png)\n",
        "\n",
        "To implement the network architecture, you will use [Keras](https://keras.io/). Keras comes with an extensive online documentation, and reading the relevant parts of this documentation will be essential when working on this assignment. We suggest to start with the tutorial [Getting started with the Keras Sequential model](https://keras.io/getting-started/sequential-model-guide/). After that, you should have a look at some of the examples mentioned in that tutorial, and in particular the [Bidirectional LSTM](https://keras.io/examples/imdb_bidirectional_lstm/) example."
      ]
    },
    {
      "cell_type": "markdown",
      "metadata": {
        "id": "QuG6bdTVe-wO",
        "colab_type": "text"
      },
      "source": [
        "## Evaluation"
      ]
    },
    {
      "cell_type": "markdown",
      "metadata": {
        "id": "R7X-vf92e-wP",
        "colab_type": "text"
      },
      "source": [
        "The most widely-used evaluation measure for part-of-speech tagging is per-word accuracy, which is the percentage of words to which the tagger assigns the correct tag (according to the gold standard). This is one of the default metrics in Keras.\n",
        "\n",
        "One problem that you will encounter during evaluation is that the evaluation data contains words that you did not see (and did not add to your index) during training. The simplest solution to this problem is to introduce a special &lsquo;word&rsquo; `<unk>` and replace each unknown word with this pseudoword."
      ]
    },
    {
      "cell_type": "markdown",
      "metadata": {
        "id": "u27DwHEie-wQ",
        "colab_type": "text"
      },
      "source": [
        "## Part 1: Pre-process the data"
      ]
    },
    {
      "cell_type": "markdown",
      "metadata": {
        "id": "V1uaZ2aTe-wR",
        "colab_type": "text"
      },
      "source": [
        "Before you can start to implement the network architecture as such, you will have to bring the tagged sentences from the gold-standard data into a form that can be used with the network. One important step in this is to map the words and tags (strings) to integers. Here is code that illustrates the idea:"
      ]
    },
    {
      "cell_type": "code",
      "metadata": {
        "id": "fYHcjl4te-wS",
        "colab_type": "code",
        "outputId": "12daef94-db18-4639-8483-5ced1dd335c3",
        "colab": {
          "base_uri": "https://localhost:8080/",
          "height": 51
        }
      },
      "source": [
        "word_to_index = {}\n",
        "for tagged_sentence in train_data:\n",
        "    for word, tag in tagged_sentence:\n",
        "        if word not in word_to_index:\n",
        "            word_to_index[word] = len(word_to_index)\n",
        "\n",
        "print('Number of unique words in the training data: {}'.format(len(word_to_index)))\n",
        "print('Index of the word \"hates\": {}'.format(word_to_index['hates']))"
      ],
      "execution_count": 57,
      "outputs": [
        {
          "output_type": "stream",
          "text": [
            "Number of unique words in the training data: 19672\n",
            "Index of the word \"hates\": 4579\n"
          ],
          "name": "stdout"
        }
      ]
    },
    {
      "cell_type": "markdown",
      "metadata": {
        "id": "lCOzRbaoe-wX",
        "colab_type": "text"
      },
      "source": [
        "Once you have indexes for the words and the tags, you can construct the input and the gold-standard output tensor required to train the network.\n",
        "\n",
        "### Constructing the input tensor\n",
        "\n",
        "The input tensor should be of shape $(N, n)$ where $N$ is the total number of sentences in the training data and $n$ is the length of the longest sentence. Note that Keras requires all sequences in an input tensor to have the same length, which means that you will have to pad all sequences to that length. You can use the helper function [`pad_sequences`](https://www.tensorflow.org/api_docs/python/tf/keras/preprocessing/sequence/pad_sequences) for this, which by default will front-pad sequences with the value&nbsp;0. It is essential then that you do not use this special padding value as the index of actual words.\n",
        "\n",
        "### Constructing the target output tensor\n",
        "\n",
        "The target output tensor should be of shape $(N, n, T)$ where $T$ is the number of unique tags in the training data, plus one to cater for the special padding value. The additional dimension corresponds to the fact that the softmax layer of the network will output one $T$-dimensional vector for each position of an input sentence. To construct this vector, you can use the helper function [`to_categorical`](https://www.tensorflow.org/api_docs/python/tf/keras/utils/to_categorical)."
      ]
    },
    {
      "cell_type": "code",
      "metadata": {
        "id": "j7DRzTkHe-wZ",
        "colab_type": "code",
        "outputId": "87d8e918-417c-4310-e56b-a95ca2d112a1",
        "colab": {
          "base_uri": "https://localhost:8080/",
          "height": 51
        }
      },
      "source": [
        "# Define a help function to build index from a list of words or tags, each word / tag will have a unique number\n",
        "def build_index(strings, init=[]):\n",
        "    string_to_index = {s: i for i, s in enumerate(init)}\n",
        "    # Loop over strings in 'strings'\n",
        "    for string in strings: \n",
        "        # Check if string exists in variable 'string_to_index', \n",
        "        if string not in string_to_index:\n",
        "            #string_to_index[string] = len(string)\n",
        "            string_to_index[string] = len(string_to_index)\n",
        "            \n",
        "        # if string does not exist, add a new element to 'string_to_index': the current length of 'string_to_index'\n",
        "        \n",
        "    \n",
        "    return string_to_index\n",
        "        \n",
        "# Convert all words and tags in train_data to lists, start with empty lists and use '.append()' \n",
        "# to add one word / tag at a time, similar to the cell below 'pre-process the data'\n",
        "\n",
        "def build_data(data):\n",
        "    words, tags = [], []\n",
        "    for tagged_sentence in data:\n",
        "        for word, tag in tagged_sentence:\n",
        "            words.append(word)\n",
        "            tags.append(tag)\n",
        "    #word_to_index = build_index(words)\n",
        "    #tag_to_index = build_index(tags)   \n",
        "    word_to_index = build_index(words, init=['<pad>', '<unk>'])\n",
        "    tag_to_index = build_index(tags, init=['<pad>'])\n",
        "    \n",
        "    return word_to_index, tag_to_index\n",
        "# Call the help function you made, to build an index for words (word_to_index), and one index for tags (tag_to_index)\n",
        "\n",
        "word_to_index,tag_to_index = build_data(train_data)\n",
        "\n",
        "# Check number of words and tags\n",
        "num_words = len(word_to_index)\n",
        "num_tags = len(tag_to_index)\n",
        "\n",
        "print(f'Number of unique words in the training data: {num_words}')\n",
        "print(f'Number of unique tags in the training_data: {num_tags}')"
      ],
      "execution_count": 58,
      "outputs": [
        {
          "output_type": "stream",
          "text": [
            "Number of unique words in the training data: 19674\n",
            "Number of unique tags in the training_data: 18\n"
          ],
          "name": "stdout"
        }
      ]
    },
    {
      "cell_type": "code",
      "metadata": {
        "id": "J5BlLAkRe-we",
        "colab_type": "code",
        "outputId": "7b45c77b-709b-4170-aa38-072e5aae2322",
        "colab": {
          "base_uri": "https://localhost:8080/",
          "height": 51
        }
      },
      "source": [
        "from tensorflow.keras.preprocessing.sequence import pad_sequences\n",
        "from tensorflow.keras.utils import to_categorical\n",
        "\n",
        "# Make a function that converts the tagged sentences, word indices and tag indices to \n",
        "# X and Y, that can be used when training the RNN\n",
        "def encode(tagged_sentences, word_to_index, tag_to_index):\n",
        "    \n",
        "    # Start with empty lists that will contain all training examples and corresponding output\n",
        "    X, Y = [], []\n",
        "   \n",
        "    # Loop over tagged sentences\n",
        "    for tagged_sentence in tagged_sentences:\n",
        "        \n",
        "        # Make empty lists for current sentence\n",
        "        Xcurrent, Ycurrent = [], []\n",
        "        \n",
        "        \n",
        "        # Loop over words and tags in current sentence\n",
        "        for word, tag in tagged_sentence:\n",
        "            #print(word_to_index.get(word))\n",
        "            # Append the index for the current word to Xcurrent, \n",
        "            #Xcurrent.append(word_to_index.get(word))\n",
        "            # if the word does not exist in 'word_to_index', add the index for '<unk>' instead\n",
        "            #if word in word_to_index\n",
        "            if word in word_to_index:\n",
        "              Xcurrent.append(word_to_index[word])\n",
        "            else:\n",
        "              Xcurrent.append(word_to_index['<unk>'])\n",
        "                 # Append the index for the current tag to Ycurrent\n",
        "            Ycurrent.append(tag_to_index[tag])\n",
        "           \n",
        "            \n",
        "        # Append X with Xcurrent, and Y with Ycurrent\n",
        "        X.append(Xcurrent)\n",
        "        Y.append(Ycurrent)\n",
        "        \n",
        "    # Pad the sequences, so that all have the same length\n",
        "    # help(pad_sequences)\n",
        "    \n",
        "    X = pad_sequences(X)\n",
        "    #X = pad_sequences(X)\n",
        "    Y = pad_sequences(Y)\n",
        "    #Y = pad_sequences(Y)\n",
        "    # Convert labels to categorical, as you did in the CNN lab\n",
        "    Y = to_categorical(Y,num_classes = len(tag_to_index),dtype=\"int32\")\n",
        "    return X, Y\n",
        "    \n",
        "    \n",
        "    \n",
        "# Use your 'encode' function to create X and Y from train_data, word_to_index, tag_to_index\n",
        "X, Y  = encode(train_data,word_to_index,tag_to_index)\n",
        "\n",
        "# Print the shape of X and Y\n",
        "print(X.shape)\n",
        "print(Y.shape)"
      ],
      "execution_count": 59,
      "outputs": [
        {
          "output_type": "stream",
          "text": [
            "(12543, 159)\n",
            "(12543, 159, 18)\n"
          ],
          "name": "stdout"
        }
      ]
    },
    {
      "cell_type": "markdown",
      "metadata": {
        "id": "hOMX5N3Oe-wi",
        "colab_type": "text"
      },
      "source": [
        "## Part 2: Construct the model"
      ]
    },
    {
      "cell_type": "markdown",
      "metadata": {
        "id": "7rcaHbgJe-wj",
        "colab_type": "text"
      },
      "source": [
        "To implement the network architecture, you need to find and instantiate the relevant building blocks from the Keras library. Note that Keras layers support a large number of optional parameters; use the default values unless you have a good reason not to. Two mandatory parameters that you will have to specify are the dimensionality of the embedding and the dimensionality of the output of the LSTM layer. The following values are reasonable starting points, but do try a number of different settings.\n",
        "\n",
        "* dimensionality of the embedding: 100\n",
        "* dimensionality of the output of the bidirectional LSTM layer: 100\n",
        "\n",
        "You will also have to choose an appropriate loss function. For training we recommend the Adam optimiser."
      ]
    },
    {
      "cell_type": "code",
      "metadata": {
        "scrolled": true,
        "id": "oFd5j0W8e-wk",
        "colab_type": "code",
        "outputId": "1a46e323-49c9-4a95-8d49-e66e271b2fb0",
        "colab": {
          "base_uri": "https://localhost:8080/",
          "height": 255
        }
      },
      "source": [
        "from keras import Sequential\n",
        "# Import necessary layers\n",
        "from keras.layers import Embedding, LSTM, Dense, Bidirectional, Flatten\n",
        "from keras.losses import categorical_crossentropy as catCross\n",
        "from keras.optimizers import Adam\n",
        "\n",
        "embedding_dim = 100\n",
        "output_dim = 100\n",
        "hidden_dim = 100\n",
        "\n",
        "def RNN_model(input_data,learning_rate):\n",
        "\n",
        "    # Create model, similar to how it was done in the DNN and CNN labs\n",
        "    model = Sequential()\n",
        "\n",
        "    # The model should have an embedding layer, a bidirectional LSTM, and a dense softmax layer \n",
        "    # (see the network architecture image)\n",
        "\n",
        "    model.add(Embedding(input_dim = input_data,output_dim = output_dim,mask_zero=True))\n",
        "    \n",
        "    #model.add(Flatten())\n",
        "    \n",
        "    #model.add(LSTM(input_shape=(100,1), units=100, return_sequences=True))\n",
        "    model.add(Bidirectional(LSTM(hidden_dim, return_sequences=True)))\n",
        "\n",
        "\n",
        "    #model.add(Flatten())\n",
        "    \n",
        "    model.add(Dense(18, activation = 'softmax'))\n",
        "\n",
        "    # Compile model\n",
        "    \n",
        "    model.compile(optimizer = Adam(lr = learning_rate),loss = catCross, metrics=['accuracy'])\n",
        "\n",
        "    return model\n",
        "\n",
        "# Print a summary of the model\n",
        "\n",
        "model = RNN_model(num_words,0.01)\n",
        "\n",
        "model.summary()\n"
      ],
      "execution_count": 60,
      "outputs": [
        {
          "output_type": "stream",
          "text": [
            "Model: \"sequential_3\"\n",
            "_________________________________________________________________\n",
            "Layer (type)                 Output Shape              Param #   \n",
            "=================================================================\n",
            "embedding_3 (Embedding)      (None, None, 100)         1967400   \n",
            "_________________________________________________________________\n",
            "bidirectional_3 (Bidirection (None, None, 200)         160800    \n",
            "_________________________________________________________________\n",
            "dense_3 (Dense)              (None, None, 18)          3618      \n",
            "=================================================================\n",
            "Total params: 2,131,818\n",
            "Trainable params: 2,131,818\n",
            "Non-trainable params: 0\n",
            "_________________________________________________________________\n"
          ],
          "name": "stdout"
        }
      ]
    },
    {
      "cell_type": "markdown",
      "metadata": {
        "id": "Tko0DWSxe-wo",
        "colab_type": "text"
      },
      "source": [
        "## Part 3: Train the network"
      ]
    },
    {
      "cell_type": "markdown",
      "metadata": {
        "id": "_CGB99bre-wp",
        "colab_type": "text"
      },
      "source": [
        "The next step is to train the network. Use the following parameters:\n",
        "\n",
        "* number of epochs: 10\n",
        "* batch size: 32\n",
        "\n",
        "Training will print the average running loss on the training data after each minibatch. In addition to that, we ask you to also print the loss and accuracy on the development data after each epoch. You can do so by providing the `validation_data` argument to the `fit` method.\n",
        "\n",
        "Note that the `fit` method returns a [`History`](https://keras.io/callbacks/#history) object that contains useful information about the training. We will use that information in the next step."
      ]
    },
    {
      "cell_type": "code",
      "metadata": {
        "id": "nJiRI8Kve-wq",
        "colab_type": "code",
        "outputId": "dbcd7860-73c6-4e3c-d3b7-65185490ee2c",
        "colab": {
          "base_uri": "https://localhost:8080/",
          "height": 428
        }
      },
      "source": [
        "# Encode the development (validation data) using the 'encode' function you created before\n",
        "X_val, Y_val = encode(dev_data,word_to_index,tag_to_index)\n",
        "\n",
        "\n",
        "# Train the model and save the history, as you did in the DNN and CNN labs, provide validation data\n",
        "history = model.fit(x = X, y = Y, validation_data = (X_val,Y_val),epochs = 10,batch_size = 32)\n"
      ],
      "execution_count": 61,
      "outputs": [
        {
          "output_type": "stream",
          "text": [
            "/usr/local/lib/python3.6/dist-packages/tensorflow/python/framework/indexed_slices.py:434: UserWarning: Converting sparse IndexedSlices to a dense Tensor of unknown shape. This may consume a large amount of memory.\n",
            "  \"Converting sparse IndexedSlices to a dense Tensor of unknown shape. \"\n"
          ],
          "name": "stderr"
        },
        {
          "output_type": "stream",
          "text": [
            "Train on 12543 samples, validate on 2002 samples\n",
            "Epoch 1/10\n",
            "12543/12543 [==============================] - 153s 12ms/step - loss: 0.0412 - accuracy: 0.8762 - val_loss: 0.0457 - val_accuracy: 0.9123\n",
            "Epoch 2/10\n",
            "12543/12543 [==============================] - 152s 12ms/step - loss: 0.0103 - accuracy: 0.9691 - val_loss: 0.0492 - val_accuracy: 0.9126\n",
            "Epoch 3/10\n",
            "12543/12543 [==============================] - 151s 12ms/step - loss: 0.0065 - accuracy: 0.9797 - val_loss: 0.0527 - val_accuracy: 0.9163\n",
            "Epoch 4/10\n",
            "12543/12543 [==============================] - 151s 12ms/step - loss: 0.0043 - accuracy: 0.9864 - val_loss: 0.0594 - val_accuracy: 0.9145\n",
            "Epoch 5/10\n",
            "12543/12543 [==============================] - 151s 12ms/step - loss: 0.0037 - accuracy: 0.9881 - val_loss: 0.0711 - val_accuracy: 0.9099\n",
            "Epoch 6/10\n",
            "12543/12543 [==============================] - 151s 12ms/step - loss: 0.0033 - accuracy: 0.9896 - val_loss: 0.0743 - val_accuracy: 0.9111\n",
            "Epoch 7/10\n",
            "12543/12543 [==============================] - 151s 12ms/step - loss: 0.0033 - accuracy: 0.9895 - val_loss: 0.0770 - val_accuracy: 0.9081\n",
            "Epoch 8/10\n",
            "12543/12543 [==============================] - 150s 12ms/step - loss: 0.0034 - accuracy: 0.9887 - val_loss: 0.0807 - val_accuracy: 0.9087\n",
            "Epoch 9/10\n",
            "12543/12543 [==============================] - 151s 12ms/step - loss: 0.0035 - accuracy: 0.9887 - val_loss: 0.0832 - val_accuracy: 0.9068\n",
            "Epoch 10/10\n",
            "12543/12543 [==============================] - 151s 12ms/step - loss: 0.0031 - accuracy: 0.9899 - val_loss: 0.0826 - val_accuracy: 0.9091\n"
          ],
          "name": "stdout"
        }
      ]
    },
    {
      "cell_type": "markdown",
      "metadata": {
        "id": "rsQKjvz8e-ww",
        "colab_type": "text"
      },
      "source": [
        "## Part 4: Identify a good model"
      ]
    },
    {
      "cell_type": "markdown",
      "metadata": {
        "id": "YBfpOSmke-wx",
        "colab_type": "text"
      },
      "source": [
        "The following code will plot the loss on the training data and the loss on the validation data after each epoch:"
      ]
    },
    {
      "cell_type": "code",
      "metadata": {
        "id": "9vdsCNyle-wy",
        "colab_type": "code",
        "colab": {}
      },
      "source": [
        "# Lets define a help function for plotting the training results\n",
        "import matplotlib.pyplot as plt\n",
        "\n",
        "def plot_results(history):\n",
        "    \n",
        "    val_loss = history.history['val_loss']\n",
        "    acc = history.history['accuracy']\n",
        "    loss = history.history['loss']\n",
        "    val_acc = history.history['val_accuracy']\n",
        "    \n",
        "    plt.figure(figsize=(10,4))\n",
        "    plt.xlabel('Epochs')\n",
        "    plt.ylabel('Loss')\n",
        "    plt.plot(loss)\n",
        "    plt.plot(val_loss)\n",
        "    plt.legend(['Training','Validation'])\n",
        "\n",
        "    plt.figure(figsize=(10,4))\n",
        "    plt.xlabel('Epochs')\n",
        "    plt.ylabel('Accuracy')\n",
        "    plt.plot(acc)\n",
        "    plt.plot(val_acc)\n",
        "    plt.legend(['Training','Validation'])\n",
        "\n",
        "    plt.show()"
      ],
      "execution_count": 0,
      "outputs": []
    },
    {
      "cell_type": "code",
      "metadata": {
        "id": "BYgoMR5Pe-w3",
        "colab_type": "code",
        "outputId": "843c58c1-1e74-4152-ed52-120426bd5800",
        "colab": {
          "base_uri": "https://localhost:8080/",
          "height": 541
        }
      },
      "source": [
        "plot_results(history)"
      ],
      "execution_count": 51,
      "outputs": [
        {
          "output_type": "display_data",
          "data": {
            "image/png": "[encoded data removed]",
            "text/plain": [
              "<Figure size 720x288 with 1 Axes>"
            ]
          },
          "metadata": {
            "tags": [],
            "needs_background": "light"
          }
        },
        {
          "output_type": "display_data",
          "data": {
            "image/png": "[encoded data removed]",
            "text/plain": [
              "<Figure size 720x288 with 1 Axes>"
            ]
          },
          "metadata": {
            "tags": [],
            "needs_background": "light"
          }
        }
      ]
    },
    {
      "cell_type": "markdown",
      "metadata": {
        "id": "kx7ZJepMe-w7",
        "colab_type": "text"
      },
      "source": [
        "Look at the plot and determine the epoch after which the model starts to overfit. Then, re-train your model using that many epochs and compute the accuracy of the tagger on the test data."
      ]
    },
    {
      "cell_type": "code",
      "metadata": {
        "id": "cq2WqkQ7e-w7",
        "colab_type": "code",
        "outputId": "3d220510-d9e9-4177-bd16-77f314d0ebc7",
        "colab": {
          "base_uri": "https://localhost:8080/",
          "height": 68
        }
      },
      "source": [
        "# Encode the test_data using the 'encode' function you created before\n",
        "\n",
        "X_test, Y_test = encode(test_data,word_to_index,tag_to_index)\n",
        "\n",
        "\n",
        "# Evaluate the model on test data, as you did in the DNN and CNN lab\n",
        "\n",
        "score = model.evaluate(x = X_test, y = Y_test)\n",
        "\n",
        "print('Test loss: %.4f' % score[0])\n",
        "print('Test accuracy: %.4f' % score[1])\n"
      ],
      "execution_count": 63,
      "outputs": [
        {
          "output_type": "stream",
          "text": [
            "2077/2077 [==============================] - 3s 1ms/step\n",
            "Test loss: 0.0727\n",
            "Test accuracy: 0.9080\n"
          ],
          "name": "stdout"
        }
      ]
    },
    {
      "cell_type": "markdown",
      "metadata": {
        "id": "OM4cgYTXe-xA",
        "colab_type": "text"
      },
      "source": [
        "## Submission"
      ]
    },
    {
      "cell_type": "markdown",
      "metadata": {
        "id": "6bYXTmQle-xB",
        "colab_type": "text"
      },
      "source": [
        "Your notebook should include all your code, and should be runnable without further modification. It should also include answers to the following questions:\n",
        "\n",
        "How many epochs did you train the final model for?\n",
        "\n",
        "Answer: I have used 10 epochs to train the final model.\n",
        "\n",
        "What accuracy did you achieve on the test data?\n",
        "\n",
        "Answer: Test accuracy: 0.9080\n",
        "\n",
        "What dimensionality of the embedding did you use for your best results?\n",
        "\n",
        "Answer: I have used embedding_dim = 100\n",
        "\n",
        "What dimensionality of the output of the bidirectional LSTM layer did you use for your best results?\n",
        "\n",
        "Answer: I have used 100 dimensionality of the output of the bidirectional LSTM layer.\n",
        "\n",
        "Instead of manually identifying a good model, and redoing the training to that number of epochs, how can you automatically stop the training when the validation performance does not improve anymore? Hint: see Lecture 2\n",
        "\n",
        "Answer: We can use earlystoping from keras when we notice that validation performance is not increasing.\n",
        "\n",
        "What did you find particularly surprising or hard?\n",
        "\n",
        "Answer: Less number of Dense layer were not allowing a model to increase its accuracy when I increase the number of Dense layer then it worked better.\n",
        "\n",
        "How do you calculate the number of parameters in the embedding layer? Hint: the calculation includes the vocabulary size and the embedding dimension\n",
        "\n",
        "Answer: Our input data dimensions are the number of parameters to the embedding layer.\n",
        "\n",
        "How do you calculate the number of parameters in the bidirectional LSTM layer? Hint: A LSTM layer has 4 parts; cell, input gate, output gate, forget gate, each part contains two weight matrices and a bias vector. A bidirectional LSTM contains two LSTMs.\n",
        "\n",
        "Answer: We can calculate the number of parameters by using the formula 4 * ((size_of_input + 1) * size_of_output + size_of_output^2) while 4 in this formula is the number of gates.\n",
        "\n",
        "Reference link https://stackoverflow.com/questions/38080035/how-to-calculate-the-number-of-parameters-of-an-lstm-network\n",
        "\n",
        "https://en.wikipedia.org/wiki/Long_short-term_memory"
      ]
    },
    {
      "cell_type": "markdown",
      "metadata": {
        "id": "VvuuV1Tfe-xB",
        "colab_type": "text"
      },
      "source": [
        "*Insert your answers here.*"
      ]
    },
    {
      "cell_type": "markdown",
      "metadata": {
        "id": "z5oaMI6de-xD",
        "colab_type": "text"
      },
      "source": [
        "## Ethics in deep learning\n",
        "\n",
        "Now that you have watched the 5 lectures, and completed the 3 laborations in this course, what do you think is the most important ethical question related to deep learning? Motivate your answer.\n",
        "\n"
      ]
    },
    {
      "cell_type": "markdown",
      "metadata": {
        "id": "15awR18ee-xD",
        "colab_type": "text"
      },
      "source": [
        "**As the Deep learning is dependent on the data to train the models and we have to do so we have use someone's data while someone can unethically use the as well. Also models can be biased sometimes e.g. Amazon hiring tool was biased towards hiring men.**"
      ]
    }
  ]
}