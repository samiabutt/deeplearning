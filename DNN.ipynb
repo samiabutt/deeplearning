{
 "cells": [
  {
   "cell_type": "markdown",
   "metadata": {},
   "source": [
    "# Deep Neural Networks Laboration\n",
    "\n",
    "Data used in this laboration are from the Kitsune Network Attack Dataset, https://archive.ics.uci.edu/ml/datasets/Kitsune+Network+Attack+Dataset . We will focus on the 'Mirai' part of the dataset. Your task is to make a DNN that can classify if each attack is benign or malicious. The dataset has 116 covariates, but to make it a bit more difficult we will remove the first 24 covariates.\n",
    "\n",
    "You need to answer all questions in this notebook."
   ]
  },
  {
   "cell_type": "markdown",
   "metadata": {},
   "source": [
    "# Part 1: Get the data\n",
    "\n",
    "Use `wget` in the terminal of your cloud machine (in the same directory as where you have saved this notebook) to download the data, i.e.\n",
    "\n",
    "wget https://archive.ics.uci.edu/ml/machine-learning-databases/00516/mirai/Mirai_dataset.csv.gz\n",
    "\n",
    "wget https://archive.ics.uci.edu/ml/machine-learning-databases/00516/mirai/Mirai_labels.csv.gz\n",
    "\n",
    "Then unpack the files using `gunzip` in the terminal, i.e.\n",
    "\n",
    "gunzip Mirai_dataset.csv.gz\n",
    "\n",
    "gunzip Mirai_labels.csv.gz"
   ]
  },
  {
   "cell_type": "markdown",
   "metadata": {},
   "source": [
    "# Part 3: Hardware\n",
    "\n",
    "In deep learning, the computer hardware is very important. You should always know what kind of hardware you are working on.\n",
    "\n",
    "Question 1: What graphics card is available in the cloud machine? Run 'nvidia-smi' in the terminal. \n",
    "\n",
    "Question 2: Google the name of the graphics card, how many CUDA cores does it have?\n",
    "\n",
    "Question 3: How much memory does the graphics card have?\n",
    "\n",
    "Question 4: What is stored in the GPU memory while training a DNN ?\n",
    "\n",
    "Question 5: What CPU is available in the cloud machine? How many cores does it have? Run 'lscpu' in the terminal.\n",
    "\n",
    "Question 6: How much CPU memory (RAM) is available in the cloud machine? Run 'free -g' in the terminal."
   ]
  },
  {
   "cell_type": "code",
   "execution_count": 33,
   "metadata": {},
   "outputs": [],
   "source": [
    "#Above questions doesnt apply in my case because I'm using my labtop for this lab.\n",
    "\n",
    "#Question 4: While training a DNN, we store mini batches in the GPU memory."
   ]
  },
  {
   "cell_type": "markdown",
   "metadata": {},
   "source": [
    "# Part 4: Load the data\n",
    "\n",
    "Load the dataset from the prepared npy files\n"
   ]
  },
  {
   "cell_type": "code",
   "execution_count": 34,
   "metadata": {},
   "outputs": [
    {
     "name": "stdout",
     "output_type": "stream",
     "text": [
      "The covariates have size (764136, 92).\n",
      "The labels have size (764136, 1).\n"
     ]
    }
   ],
   "source": [
    "from numpy import genfromtxt\n",
    "import numpy as np\n",
    "\n",
    "# Load data from numpy arrays, for faster loading\n",
    "X = np.load('Mirai_data.npy')\n",
    "Y = np.load('Mirai_labels.npy')\n",
    "\n",
    "\n",
    "# Remove the first 24 covariates\n",
    "X = np.delete(X,np.s_[0:24],1)\n",
    "\n",
    "print('The covariates have size {}.'.format(X.shape))\n",
    "print('The labels have size {}.'.format(Y.shape))\n",
    "\n",
    "# Print the number of examples of each class\n",
    "    "
   ]
  },
  {
   "cell_type": "markdown",
   "metadata": {},
   "source": [
    "# Part 5: How good is a naive classifier?\n",
    "\n",
    "Question 7: Given the distribution of examples, how high classification performance can a naive classifier obtain? The naive classifier will assume that all examples belong to one class. Note: you do not need to make a naive classifier, this is a theoretical question, just to understand how good performance we can obtain by random chance."
   ]
  },
  {
   "cell_type": "markdown",
   "metadata": {},
   "source": [
    "### Naive Classification performace = (each example class)/(total of examples)"
   ]
  },
  {
   "cell_type": "code",
   "execution_count": 35,
   "metadata": {},
   "outputs": [
    {
     "name": "stdout",
     "output_type": "stream",
     "text": [
      "0\n",
      "0\n"
     ]
    }
   ],
   "source": [
    "import numpy as np\n",
    "# It is common to have NaNs in the data, lets check for it. Hint: np.isnan()\n",
    "\n",
    "x_nan = np.isnan(X)\n",
    "y_nan = np.isnan(Y)\n",
    "\n",
    "# Print the number of NaNs (not a number) in the labels\n",
    "print(len(y_nan[y_nan==True]))\n",
    "\n",
    "# Print the number of NaNs in the covariates\n",
    "print(len(x_nan[x_nan==True]))"
   ]
  },
  {
   "cell_type": "markdown",
   "metadata": {},
   "source": [
    "# Part 6: Preprocessing\n",
    "\n",
    "Lets do some simple preprocessing"
   ]
  },
  {
   "cell_type": "code",
   "execution_count": 36,
   "metadata": {},
   "outputs": [
    {
     "name": "stdout",
     "output_type": "stream",
     "text": [
      "[ 4.62142524e-18  3.18385513e-16 -1.84633842e-16 -2.48459723e-17\n",
      " -3.04697912e-16 -1.17921663e-15 -1.52348956e-16 -1.24043889e-15\n",
      "  1.71526476e-15 -7.61372834e-17  7.85102969e-16  7.82015820e-18\n",
      "  2.20377823e-18 -2.35441624e-17  4.64188225e-16  4.78842886e-16\n",
      "  1.73921806e-16 -1.55644395e-15  8.74072379e-19 -6.54624420e-18\n",
      "  1.74814476e-18 -1.63507327e-16  2.70702076e-16  8.86718533e-17\n",
      " -1.25799472e-15  2.18146149e-17  3.45909495e-18  7.12647948e-17\n",
      " -5.62047137e-16 -6.10362883e-16 -6.27100439e-17 -9.82606133e-16\n",
      " -2.17774203e-17  1.10095925e-17  4.20298633e-17  5.51967409e-17\n",
      "  4.07503702e-16 -2.18629679e-16  6.54624420e-18 -1.99362892e-17\n",
      " -4.56749311e-17  7.29013559e-17 -1.24058767e-15 -1.48778277e-18\n",
      "  1.33342531e-17  4.64188225e-16  7.99683241e-18  6.22916050e-17\n",
      " -1.62912214e-16 -4.94687772e-18  5.00638903e-17 -5.37535916e-16\n",
      " -6.45325778e-18 -1.16790948e-17  2.17216285e-17 -1.72954747e-17\n",
      " -7.98195458e-17  4.90075646e-16  2.99193116e-16 -1.90064249e-17\n",
      "  4.81148949e-16  3.08714925e-18  1.85217332e-18 -1.76674204e-19\n",
      "  9.23913102e-17 -3.36238907e-17  6.63365144e-17  2.26886873e-17\n",
      "  1.33900450e-17  1.62610008e-18 -1.90622168e-18  5.89757091e-16\n",
      " -1.57221445e-15 -8.92669664e-19 -2.79182437e-16 -2.99602256e-17\n",
      "  8.28741498e-19 -1.19952486e-17 -6.20256638e-16 -3.15112391e-16\n",
      " -2.30606330e-18  1.67896286e-15  3.39958364e-17  2.64255792e-18\n",
      " -5.46760169e-18 -2.18108955e-16 -5.68333019e-17 -4.01701349e-18\n",
      "  5.85293743e-16 -2.69288682e-17  2.37580312e-18  1.98990946e-18]\n",
      "[1. 1. 1. 1. 1. 1. 1. 1. 1. 1. 1. 1. 1. 1. 1. 1. 1. 1. 1. 1. 1. 1. 1. 1.\n",
      " 1. 1. 1. 1. 1. 1. 1. 1. 1. 1. 1. 1. 1. 1. 1. 1. 1. 1. 1. 1. 1. 1. 1. 1.\n",
      " 1. 1. 1. 1. 1. 1. 1. 1. 1. 1. 1. 1. 1. 1. 1. 1. 1. 1. 1. 1. 1. 1. 1. 1.\n",
      " 1. 1. 1. 1. 1. 1. 1. 1. 1. 1. 1. 1. 1. 1. 1. 1. 1. 1. 1. 1.]\n"
     ]
    }
   ],
   "source": [
    "import numpy as np\n",
    "\n",
    "\n",
    "# Convert covariates to floats\n",
    "x_f_orig = X.astype(float)\n",
    "#print(x_f[0:10,0])\n",
    "# Convert labels to ints\n",
    "y_int = Y.astype(int)\n",
    "\n",
    "# Remove mean of each covariate (column)\n",
    "cov_mean = np.mean(x_f_orig,axis=0)\n",
    "#print(cov_mean[0])\n",
    "x_f_mean_rmv = (x_f_orig - cov_mean)\n",
    "#print(remv_mean[0:10,0])\n",
    "# Divide each covariate (column) by its standard deviation\n",
    "\n",
    "#changed\n",
    "stdv = np.std(x_f_orig, axis = 0)\n",
    "x_f = x_f_mean_rmv/stdv\n",
    "\n",
    "# Check that mean is 0 and standard deviation is 1 for all covariates, by printing mean and std\n",
    "#print(np.mean(remv_mean))\n",
    "#print(np.std(x_stdv))\n",
    "\n",
    "#changed\n",
    "X = X - np.mean(X,axis=0)\n",
    "\n",
    "X = X / np.std(X,axis=0)\n",
    "\n",
    "print(np.mean(X,axis=0))\n",
    "\n",
    "print(np.std(X,axis=0))"
   ]
  },
  {
   "cell_type": "markdown",
   "metadata": {},
   "source": [
    "# Part 7: Split the dataset\n",
    "\n",
    "Use the first 70% of the dataset for training, leave the other 30% for validation and test, call the variables\n",
    "\n",
    "Xtrain (70%)\n",
    "\n",
    "Xtemp  (30%)\n",
    "\n",
    "Ytrain (70%)\n",
    "\n",
    "Ytemp  (30%)\n"
   ]
  },
  {
   "cell_type": "code",
   "execution_count": 37,
   "metadata": {},
   "outputs": [
    {
     "name": "stdout",
     "output_type": "stream",
     "text": [
      "Xtrain has size (534895, 92).\n",
      "Ytrain has size (534895, 1).\n",
      "Xtemp has size (229241, 92).\n",
      "Ytemp has size (229241, 1).\n",
      "Number of training examples for class 0 is 85133\n",
      "Number of testing examples for class 0 is 36487\n",
      "Number of training examples for class 1 is 449762\n",
      "Number of testing examples for class 1 is 192754\n"
     ]
    }
   ],
   "source": [
    "# Your code\n",
    "import sklearn as skl\n",
    "\n",
    "from sklearn.model_selection import train_test_split\n",
    "\n",
    "#help(train_test_split)\n",
    "\n",
    "Xtrain, Xtemp, Ytrain, Ytemp = train_test_split(x_f, y_int,train_size=0.70 ,test_size=0.30)\n",
    "\n",
    "print('Xtrain has size {}.'.format(Xtrain.shape))\n",
    "print('Ytrain has size {}.'.format(Ytrain.shape))\n",
    "\n",
    "print('Xtemp has size {}.'.format(Xtemp.shape))\n",
    "print('Ytemp has size {}.'.format(Ytemp.shape))\n",
    "\n",
    "# Print the number of examples of each class, for the training data and the remaining 30%\n",
    "\n",
    "#changed\n",
    "#print('Training Number of examples of Class 0 is:{} '.format(len(Xtrain[Xtrain==0])))\n",
    "#print('Training Number of examples of Class 1 is:{} '.format(len(Xtrain[Xtrain==1])))\n",
    "#print('Test Number of examples of Class 0 is:{} '.format(len(Xtemp[Xtemp==0])))\n",
    "#print('Test Number of examples of Class 1 is:{} '.format(len(Xtemp[Xtemp==0])))\n",
    "\n",
    "\n",
    "#changed\n",
    "numClasses = 2\n",
    "for i in range(numClasses):\n",
    "\n",
    "    print(\"Number of training examples for class {} is {}\" .format(i,np.sum(Ytrain == i)))\n",
    "\n",
    "    print(\"Number of testing examples for class {} is {}\" .format(i,np.sum(Ytemp == i)))\n",
    "\n",
    "\n"
   ]
  },
  {
   "cell_type": "markdown",
   "metadata": {},
   "source": [
    "# Part 8: Number of examples per class\n",
    "\n",
    "Question 8: Can we use the dataset as it is? Why not?\n",
    "\n",
    "Lets randomly shuffle the data, to get some examples of each class in training data and in the remaining 30%. Use the function `shuffle` in scikit learn\n",
    "\n",
    "https://scikit-learn.org/stable/modules/generated/sklearn.utils.shuffle.html"
   ]
  },
  {
   "cell_type": "markdown",
   "metadata": {},
   "source": [
    "### Answer\n",
    "It is better to shuffle the data before spliting it into training and validation. \n",
    "If we do spliting without shuffling, we might get some data in training or validation which doesnt include all the classes."
   ]
  },
  {
   "cell_type": "code",
   "execution_count": 38,
   "metadata": {},
   "outputs": [
    {
     "name": "stdout",
     "output_type": "stream",
     "text": [
      "Xtrain has size (534895, 92).\n",
      "Ytrain has size (534895, 1).\n",
      "Xtemp has size (229241, 92).\n",
      "Ytemp has size (229241, 1).\n",
      "Training Number of examples of Class 0 is:85031 \n",
      "Training Number of examples of Class 1 is:449864 \n",
      "Test Number of examples of Class 0 is:36589 \n",
      "Test Number of examples of Class 1 is:36589 \n"
     ]
    }
   ],
   "source": [
    "from sklearn.utils import shuffle\n",
    "\n",
    "import sklearn as skl\n",
    "\n",
    "from sklearn.model_selection import train_test_split\n",
    "\n",
    "# Randomly shuffle data, to get both classes in training and testing\n",
    "#help(shuffle)\n",
    "\n",
    "#y_shuf = shuffle(y_int, random_state=0)\n",
    "#x_shuf = shuffle(x_f, random_state=0)\n",
    "\n",
    "#changed\n",
    "x_shuf, y_shuf = shuffle(x_f, y_int, random_state=0)\n",
    "\n",
    "# Divide the data into training and validation/test again\n",
    "\n",
    "Xtrain, Xtemp, Ytrain, Ytemp = train_test_split(x_shuf, y_shuf,train_size=0.70 ,test_size=0.30)\n",
    "\n",
    "print('Xtrain has size {}.'.format(Xtrain.shape))\n",
    "print('Ytrain has size {}.'.format(Ytrain.shape))\n",
    "\n",
    "print('Xtemp has size {}.'.format(Xtemp.shape))\n",
    "print('Ytemp has size {}.'.format(Ytemp.shape))\n",
    "\n",
    "# Print the number of examples of each class, for the training data and the remaining 30%\n",
    "\n",
    "#changed\n",
    "print('Training Number of examples of Class 0 is:{} '.format(len(Ytrain[Ytrain==0])))\n",
    "print('Training Number of examples of Class 1 is:{} '.format(len(Ytrain[Ytrain==1])))\n",
    "\n",
    "print('Test Number of examples of Class 0 is:{} '.format(len(Ytemp[Ytemp==0])))\n",
    "print('Test Number of examples of Class 1 is:{} '.format(len(Ytemp[Ytemp==0])))\n"
   ]
  },
  {
   "cell_type": "markdown",
   "metadata": {},
   "source": [
    "#  Part 9: Split non-training data data into validation and test\n",
    "Split your non-training data (Xtemp, Ytemp) into 50% validation (Xval, Yval) and 50% testing (Xtest, Ytest), we use a function from scikit learn. \n",
    "\n",
    "https://scikit-learn.org/stable/modules/generated/sklearn.model_selection.train_test_split.html\n"
   ]
  },
  {
   "cell_type": "code",
   "execution_count": 39,
   "metadata": {},
   "outputs": [
    {
     "name": "stdout",
     "output_type": "stream",
     "text": [
      "The validation and test data have size (114621, 92), (114620, 92), (114621, 1) and (114620, 1)\n"
     ]
    }
   ],
   "source": [
    "from sklearn.model_selection import train_test_split\n",
    "\n",
    "Xtest, Xval, Ytest, Yval = train_test_split(Xtemp, Ytemp,train_size=0.50 ,test_size=0.50)\n",
    "\n",
    "\n",
    "print('The validation and test data have size {}, {}, {} and {}'.format(Xval.shape, Xtest.shape, Yval.shape, Ytest.shape))"
   ]
  },
  {
   "cell_type": "markdown",
   "metadata": {},
   "source": [
    "# Part 10: DNN classification\n",
    "\n",
    "Finish this code to create a first version of the classifier using a DNN. Start with a simple network with 2 dense layers (with 20 nodes each), using sigmoid activation functions. The final dense layer should have a single node and a sigmoid activation function. We start with the SGD optimizer.\n",
    "\n",
    "Relevant functions are\n",
    "\n",
    "`model.add()`, adds a layer to the network\n",
    "\n",
    "`Dense()`, a dense network layer\n",
    "\n",
    "`model.compile()`, compile the model, add \" metrics=['accuracy'] \" to print the classification accuracy during the training\n",
    "\n",
    "`model.fit()`, train the model with some training data\n",
    "\n",
    "`model.evaluate()`, apply the trained model to some test data\n",
    "\n",
    "See https://keras.io/layers/core/ for information on how the `Dense()` function works\n",
    "\n",
    "Import a relevant cost / loss function for binary classification from keras.losses (https://keras.io/losses/)\n",
    "\n",
    "See https://keras.io/models/model/ for how to compile, train and evaluate the model"
   ]
  },
  {
   "cell_type": "code",
   "execution_count": 40,
   "metadata": {},
   "outputs": [],
   "source": [
    "from keras.models import Sequential, Model\n",
    "from keras.layers import Input, Dense, Dropout\n",
    "from keras.layers.normalization import BatchNormalization\n",
    "from keras.optimizers import SGD, Adam\n",
    "from keras.losses import binary_crossentropy as binCross\n",
    "\n",
    "#help(keras.layers)\n",
    "#help(keras.layers.normalization)\n",
    "\n",
    "# Set seed from random number generator, for better comparisons\n",
    "from numpy.random import seed\n",
    "seed(123)\n",
    "\n",
    "def build_DNN(input_shape, n_layers, n_nodes, act_fun='sigmoid', optimizer='sgd', learning_rate=0.01, \n",
    "              use_bn=False, use_dropout=False, use_custom_dropout=False):\n",
    "    \n",
    "    # Setup optimizer, depending on input parameter string\n",
    "    optimise = SGD(lr=learning_rate)\n",
    "    if optimizer == 'adam':\n",
    "        optimise = Adam(lr=learning_rate)\n",
    "        \n",
    "    # Setup a sequential model\n",
    "    model = Sequential()\n",
    "\n",
    "    # Add layers to the model, using the input parameters of the build_DNN function\n",
    "    model.add(Dense(n_nodes, activation = act_fun, input_dim = input_shape))\n",
    "    \n",
    "\n",
    "    \n",
    "    if(use_bn==True):\n",
    "        model.add(BatchNormalization())\n",
    "    if(use_dropout==True):\n",
    "        model.add(Dropout(0.5))\n",
    "    elif use_custom_dropout:\n",
    "        model.add(myDropout(rate = 0.5))\n",
    "        \n",
    "    # Add first layer, requires input shape\n",
    "    \n",
    "    # Add remaining layers, do not require input shape\n",
    "    for i in range(n_layers-1):\n",
    "        model.add(Dense(n_nodes, activation = act_fun))\n",
    "        if(use_bn==True):\n",
    "            model.add(BatchNormalization())\n",
    "        if(use_dropout==True):\n",
    "            model.add(Dropout(0.5))\n",
    "        elif use_custom_dropout:\n",
    "            model.add(myDropout(rate = 0.5))\n",
    "\n",
    "\n",
    "    \n",
    "    # Final layer\n",
    "    model.add(Dense(1, activation = 'sigmoid'))\n",
    "    \n",
    "    # Compile model\n",
    "    model.compile(optimizer = optimise,loss = binCross, metrics=['accuracy'])\n",
    "    \n",
    "    return model"
   ]
  },
  {
   "cell_type": "code",
   "execution_count": 41,
   "metadata": {},
   "outputs": [],
   "source": [
    "# Lets define a help function for plotting the training results\n",
    "\n",
    "# IMPORTANT NOTE\n",
    "# The history unfortunately behaves a bit randomly for every user\n",
    "# If the plots for accuracy and loss look mixed, change the order of\n",
    "# val_loss, val_acc, loss, acc\n",
    "# until the plots look as they \"should\"\n",
    "\n",
    "import matplotlib.pyplot as plt\n",
    "def plot_results(history):\n",
    "    val_loss, val_acc, loss, acc = history.history.values()\n",
    "\n",
    "    plt.figure(figsize=(10,4))\n",
    "    plt.xlabel('Epochs')\n",
    "    plt.ylabel('Loss')\n",
    "    plt.plot(loss)\n",
    "    plt.plot(val_loss)\n",
    "    plt.legend(['Training','Validation'])\n",
    "\n",
    "    plt.figure(figsize=(10,4))\n",
    "    plt.xlabel('Epochs')\n",
    "    plt.ylabel('Accuracy')\n",
    "    plt.plot(acc)\n",
    "    plt.plot(val_acc)\n",
    "    plt.legend(['Training','Validation'])\n",
    "\n",
    "    plt.show()"
   ]
  },
  {
   "cell_type": "markdown",
   "metadata": {},
   "source": [
    "# Part 11: Train the DNN\n",
    "\n",
    "Time to train the DNN, we start simple with 2 layers with 2 nodes each, learning rate 0.1."
   ]
  },
  {
   "cell_type": "markdown",
   "metadata": {},
   "source": [
    "### 2 layers, 20 nodes"
   ]
  },
  {
   "cell_type": "code",
   "execution_count": 42,
   "metadata": {
    "scrolled": false
   },
   "outputs": [
    {
     "name": "stdout",
     "output_type": "stream",
     "text": [
      "Train on 534895 samples, validate on 114621 samples\n",
      "Epoch 1/20\n",
      "534895/534895 [==============================] - 1s 2us/step - loss: 0.4025 - accuracy: 0.8410 - val_loss: 0.3760 - val_accuracy: 0.8405\n",
      "Epoch 2/20\n",
      "534895/534895 [==============================] - 1s 2us/step - loss: 0.3507 - accuracy: 0.8410 - val_loss: 0.3234 - val_accuracy: 0.8405\n",
      "Epoch 3/20\n",
      "534895/534895 [==============================] - 1s 2us/step - loss: 0.2972 - accuracy: 0.8410 - val_loss: 0.2715 - val_accuracy: 0.8405\n",
      "Epoch 4/20\n",
      "534895/534895 [==============================] - 1s 2us/step - loss: 0.2526 - accuracy: 0.8483 - val_loss: 0.2354 - val_accuracy: 0.8561\n",
      "Epoch 5/20\n",
      "534895/534895 [==============================] - 1s 2us/step - loss: 0.2248 - accuracy: 0.8701 - val_loss: 0.2147 - val_accuracy: 0.8871\n",
      "Epoch 6/20\n",
      "534895/534895 [==============================] - 1s 2us/step - loss: 0.2092 - accuracy: 0.8935 - val_loss: 0.2030 - val_accuracy: 0.8983\n",
      "Epoch 7/20\n",
      "534895/534895 [==============================] - 1s 2us/step - loss: 0.2000 - accuracy: 0.8997 - val_loss: 0.1958 - val_accuracy: 0.9032\n",
      "Epoch 8/20\n",
      "534895/534895 [==============================] - 1s 2us/step - loss: 0.1942 - accuracy: 0.9024 - val_loss: 0.1909 - val_accuracy: 0.9044\n",
      "Epoch 9/20\n",
      "534895/534895 [==============================] - 1s 2us/step - loss: 0.1900 - accuracy: 0.9031 - val_loss: 0.1873 - val_accuracy: 0.9053\n",
      "Epoch 10/20\n",
      "534895/534895 [==============================] - 1s 2us/step - loss: 0.1868 - accuracy: 0.9038 - val_loss: 0.1845 - val_accuracy: 0.9058\n",
      "Epoch 11/20\n",
      "534895/534895 [==============================] - 1s 2us/step - loss: 0.1842 - accuracy: 0.9044 - val_loss: 0.1821 - val_accuracy: 0.9063\n",
      "Epoch 12/20\n",
      "534895/534895 [==============================] - 1s 2us/step - loss: 0.1821 - accuracy: 0.9049 - val_loss: 0.1801 - val_accuracy: 0.9068\n",
      "Epoch 13/20\n",
      "534895/534895 [==============================] - 1s 2us/step - loss: 0.1802 - accuracy: 0.9053 - val_loss: 0.1784 - val_accuracy: 0.9071\n",
      "Epoch 14/20\n",
      "534895/534895 [==============================] - 1s 2us/step - loss: 0.1786 - accuracy: 0.9056 - val_loss: 0.1769 - val_accuracy: 0.9074\n",
      "Epoch 15/20\n",
      "534895/534895 [==============================] - 1s 2us/step - loss: 0.1772 - accuracy: 0.9059 - val_loss: 0.1756 - val_accuracy: 0.9078\n",
      "Epoch 16/20\n",
      "534895/534895 [==============================] - 1s 2us/step - loss: 0.1759 - accuracy: 0.9063 - val_loss: 0.1744 - val_accuracy: 0.9081\n",
      "Epoch 17/20\n",
      "534895/534895 [==============================] - 1s 2us/step - loss: 0.1748 - accuracy: 0.9066 - val_loss: 0.1734 - val_accuracy: 0.9082\n",
      "Epoch 18/20\n",
      "534895/534895 [==============================] - 1s 2us/step - loss: 0.1738 - accuracy: 0.9068 - val_loss: 0.1724 - val_accuracy: 0.9083\n",
      "Epoch 19/20\n",
      "534895/534895 [==============================] - 1s 2us/step - loss: 0.1728 - accuracy: 0.9071 - val_loss: 0.1716 - val_accuracy: 0.9085\n",
      "Epoch 20/20\n",
      "534895/534895 [==============================] - 1s 2us/step - loss: 0.1720 - accuracy: 0.9075 - val_loss: 0.1708 - val_accuracy: 0.9087\n"
     ]
    }
   ],
   "source": [
    "# Setup some training parameters\n",
    "batch_size = 10000\n",
    "epochs = 20\n",
    "\n",
    "input_shape = Xtrain.shape[1]\n",
    "\n",
    "# Build the model\n",
    "model1 = build_DNN(input_shape = input_shape,n_layers = 2,n_nodes = 20,learning_rate = 0.1)\n",
    "\n",
    "# Train the model, provide training data and validation data\n",
    "history1 = model1.fit(x = Xtrain, y = Ytrain, epochs = epochs, validation_data = (Xval,Yval),  batch_size = batch_size)"
   ]
  },
  {
   "cell_type": "code",
   "execution_count": 43,
   "metadata": {},
   "outputs": [
    {
     "name": "stdout",
     "output_type": "stream",
     "text": [
      "Model: \"sequential_9\"\n",
      "_________________________________________________________________\n",
      "Layer (type)                 Output Shape              Param #   \n",
      "=================================================================\n",
      "dense_23 (Dense)             (None, 20)                1860      \n",
      "_________________________________________________________________\n",
      "dense_24 (Dense)             (None, 20)                420       \n",
      "_________________________________________________________________\n",
      "dense_25 (Dense)             (None, 1)                 21        \n",
      "=================================================================\n",
      "Total params: 2,301\n",
      "Trainable params: 2,301\n",
      "Non-trainable params: 0\n",
      "_________________________________________________________________\n"
     ]
    }
   ],
   "source": [
    "model1.summary()"
   ]
  },
  {
   "cell_type": "code",
   "execution_count": 44,
   "metadata": {},
   "outputs": [
    {
     "name": "stdout",
     "output_type": "stream",
     "text": [
      "114620/114620 [==============================] - 1s 11us/step\n",
      "Test loss: 0.1726\n",
      "Test accuracy: 0.9077\n"
     ]
    }
   ],
   "source": [
    "# Evaluate the model on the test data\n",
    "score = model1.evaluate(x = Xtest, y = Ytest)\n",
    "\n",
    "print('Test loss: %.4f' % score[0])\n",
    "print('Test accuracy: %.4f' % score[1])"
   ]
  },
  {
   "cell_type": "code",
   "execution_count": 45,
   "metadata": {},
   "outputs": [
    {
     "data": {
      "image/png": "[encoded data removed]",
      "text/plain": [
       "<Figure size 720x288 with 1 Axes>"
      ]
     },
     "metadata": {
      "needs_background": "light"
     },
     "output_type": "display_data"
    },
    {
     "data": {
      "image/png": "[encoded data removed]",
      "text/plain": [
       "<Figure size 720x288 with 1 Axes>"
      ]
     },
     "metadata": {
      "needs_background": "light"
     },
     "output_type": "display_data"
    }
   ],
   "source": [
    "# Plot the history from the training run\n",
    "plot_results(history1)"
   ]
  },
  {
   "cell_type": "code",
   "execution_count": null,
   "metadata": {},
   "outputs": [],
   "source": []
  },
  {
   "cell_type": "markdown",
   "metadata": {},
   "source": [
    "# Part 12: More questions\n",
    "\n",
    "### Question 9: What happens if you add several Dense layers without specifying the activation function?\n",
    "\n",
    "#### Answer:\n",
    "Dense layers help to reduce the dimensions of the vector. If we dont use activation function with dense layer, then the behaviour of the dense layer will be a linear behaviour and a number of dense layers with linear activation can be reduced to a single dense layer.\n"
   ]
  },
  {
   "cell_type": "markdown",
   "metadata": {},
   "source": [
    "### Question 10: How are the weights in each dense layer initialized as default? How are the bias weights initialized?\n",
    "    \n",
    "#### Answer: glorot_uniform is used as default intializer while the biased intialization is zero.\n",
    "    \n",
    "Reference link:\n",
    "https://stackoverflow.com/questions/54011173/what-is-the-default-weight-initializer-in-keras\n",
    "    "
   ]
  },
  {
   "cell_type": "markdown",
   "metadata": {},
   "source": [
    "# Part 13: Balancing the classes\n",
    "\n",
    "This dataset is rather unbalanced, we need to define class weights so that the training pays more attention to the class with fewer samples. We use a function in scikit learn\n",
    "\n",
    "https://scikit-learn.org/stable/modules/generated/sklearn.utils.class_weight.compute_class_weight.html"
   ]
  },
  {
   "cell_type": "code",
   "execution_count": 46,
   "metadata": {},
   "outputs": [
    {
     "name": "stdout",
     "output_type": "stream",
     "text": [
      "[3.14529407 0.59450745]\n"
     ]
    }
   ],
   "source": [
    "from sklearn.utils import class_weight\n",
    "# Calculate class weights\n",
    "class_weight_balance =  class_weight.compute_class_weight('balanced',np.unique(Ytrain[:,0]),Ytrain[:,0])\n",
    "#help(class_weight.compute_class_weight)\n",
    "\n",
    "# Print the class weights\n",
    "print(class_weight_balance)"
   ]
  },
  {
   "cell_type": "markdown",
   "metadata": {},
   "source": [
    "### 2 layers, 20 nodes, class weights"
   ]
  },
  {
   "cell_type": "code",
   "execution_count": 47,
   "metadata": {
    "scrolled": false
   },
   "outputs": [
    {
     "name": "stdout",
     "output_type": "stream",
     "text": [
      "Train on 534895 samples, validate on 114621 samples\n",
      "Epoch 1/20\n",
      "534895/534895 [==============================] - 1s 2us/step - loss: 0.4277 - accuracy: 0.8410 - val_loss: 0.4020 - val_accuracy: 0.8405\n",
      "Epoch 2/20\n",
      "534895/534895 [==============================] - 1s 2us/step - loss: 0.3803 - accuracy: 0.8410 - val_loss: 0.3569 - val_accuracy: 0.8405\n",
      "Epoch 3/20\n",
      "534895/534895 [==============================] - 1s 2us/step - loss: 0.3313 - accuracy: 0.8410 - val_loss: 0.3047 - val_accuracy: 0.8405\n",
      "Epoch 4/20\n",
      "534895/534895 [==============================] - 1s 2us/step - loss: 0.2812 - accuracy: 0.8411 - val_loss: 0.2588 - val_accuracy: 0.8410\n",
      "Epoch 5/20\n",
      "534895/534895 [==============================] - 1s 2us/step - loss: 0.2431 - accuracy: 0.8512 - val_loss: 0.2288 - val_accuracy: 0.8589\n",
      "Epoch 6/20\n",
      "534895/534895 [==============================] - 1s 2us/step - loss: 0.2202 - accuracy: 0.8700 - val_loss: 0.2119 - val_accuracy: 0.8861\n",
      "Epoch 7/20\n",
      "534895/534895 [==============================] - 1s 2us/step - loss: 0.2075 - accuracy: 0.8919 - val_loss: 0.2023 - val_accuracy: 0.8972\n",
      "Epoch 8/20\n",
      "534895/534895 [==============================] - 1s 2us/step - loss: 0.1999 - accuracy: 0.8972 - val_loss: 0.1962 - val_accuracy: 0.9007\n",
      "Epoch 9/20\n",
      "534895/534895 [==============================] - 1s 2us/step - loss: 0.1949 - accuracy: 0.9013 - val_loss: 0.1920 - val_accuracy: 0.9038\n",
      "Epoch 10/20\n",
      "534895/534895 [==============================] - 1s 2us/step - loss: 0.1913 - accuracy: 0.9025 - val_loss: 0.1888 - val_accuracy: 0.9042\n",
      "Epoch 11/20\n",
      "534895/534895 [==============================] - 1s 2us/step - loss: 0.1884 - accuracy: 0.9030 - val_loss: 0.1862 - val_accuracy: 0.9046\n",
      "Epoch 12/20\n",
      "534895/534895 [==============================] - 1s 2us/step - loss: 0.1860 - accuracy: 0.9034 - val_loss: 0.1840 - val_accuracy: 0.9050\n",
      "Epoch 13/20\n",
      "534895/534895 [==============================] - 1s 2us/step - loss: 0.1839 - accuracy: 0.9041 - val_loss: 0.1820 - val_accuracy: 0.9062\n",
      "Epoch 14/20\n",
      "534895/534895 [==============================] - 1s 2us/step - loss: 0.1820 - accuracy: 0.9056 - val_loss: 0.1803 - val_accuracy: 0.9077\n",
      "Epoch 15/20\n",
      "534895/534895 [==============================] - 1s 2us/step - loss: 0.1804 - accuracy: 0.9069 - val_loss: 0.1787 - val_accuracy: 0.9086\n",
      "Epoch 16/20\n",
      "534895/534895 [==============================] - 1s 2us/step - loss: 0.1789 - accuracy: 0.9076 - val_loss: 0.1773 - val_accuracy: 0.9091\n",
      "Epoch 17/20\n",
      "534895/534895 [==============================] - 1s 2us/step - loss: 0.1775 - accuracy: 0.9081 - val_loss: 0.1760 - val_accuracy: 0.9096\n",
      "Epoch 18/20\n",
      "534895/534895 [==============================] - 1s 2us/step - loss: 0.1763 - accuracy: 0.9084 - val_loss: 0.1749 - val_accuracy: 0.9097\n",
      "Epoch 19/20\n",
      "534895/534895 [==============================] - 1s 2us/step - loss: 0.1752 - accuracy: 0.9086 - val_loss: 0.1739 - val_accuracy: 0.9100\n",
      "Epoch 20/20\n",
      "534895/534895 [==============================] - 1s 2us/step - loss: 0.1742 - accuracy: 0.9087 - val_loss: 0.1729 - val_accuracy: 0.9100\n"
     ]
    }
   ],
   "source": [
    "# Setup some training parameters\n",
    "batch_size = 10000\n",
    "epochs = 20\n",
    "input_shape =  Xtrain.shape[1]\n",
    "\n",
    "# Build and train model\n",
    "model2 = build_DNN(input_shape = input_shape,n_layers = 2,n_nodes = 20,learning_rate = 0.1)\n",
    "\n",
    "history2 = model2.fit(x = Xtrain, y = Ytrain, epochs = epochs, validation_data = (Xval,Yval),  \n",
    "                      batch_size = batch_size,\n",
    "                      class_weight = class_weight_balance)"
   ]
  },
  {
   "cell_type": "code",
   "execution_count": 48,
   "metadata": {},
   "outputs": [
    {
     "name": "stdout",
     "output_type": "stream",
     "text": [
      "Model: \"sequential_10\"\n",
      "_________________________________________________________________\n",
      "Layer (type)                 Output Shape              Param #   \n",
      "=================================================================\n",
      "dense_26 (Dense)             (None, 20)                1860      \n",
      "_________________________________________________________________\n",
      "dense_27 (Dense)             (None, 20)                420       \n",
      "_________________________________________________________________\n",
      "dense_28 (Dense)             (None, 1)                 21        \n",
      "=================================================================\n",
      "Total params: 2,301\n",
      "Trainable params: 2,301\n",
      "Non-trainable params: 0\n",
      "_________________________________________________________________\n"
     ]
    }
   ],
   "source": [
    "model2.summary()"
   ]
  },
  {
   "cell_type": "code",
   "execution_count": 49,
   "metadata": {},
   "outputs": [
    {
     "name": "stdout",
     "output_type": "stream",
     "text": [
      "114620/114620 [==============================] - 1s 11us/step\n",
      "Test loss: 0.1748\n",
      "Test accuracy: 0.9090\n"
     ]
    }
   ],
   "source": [
    "# Evaluate model on test data\n",
    "score = model2.evaluate(x = Xtest, y = Ytest)\n",
    "\n",
    "print('Test loss: %.4f' % score[0])\n",
    "print('Test accuracy: %.4f' % score[1])"
   ]
  },
  {
   "cell_type": "code",
   "execution_count": 50,
   "metadata": {},
   "outputs": [
    {
     "data": {
      "image/png": "[encoded data removed]",
      "text/plain": [
       "<Figure size 720x288 with 1 Axes>"
      ]
     },
     "metadata": {
      "needs_background": "light"
     },
     "output_type": "display_data"
    },
    {
     "data": {
      "image/png": "[encoded data removed]",
      "text/plain": [
       "<Figure size 720x288 with 1 Axes>"
      ]
     },
     "metadata": {
      "needs_background": "light"
     },
     "output_type": "display_data"
    }
   ],
   "source": [
    "plot_results(history2)"
   ]
  },
  {
   "cell_type": "markdown",
   "metadata": {},
   "source": [
    "# Part 14: More questions\n",
    "\n",
    "#### Question 11: Why do we have to use a batch size? Why can't we simply use all data at once? This is more relevant for even larger datasets.\n",
    "\n",
    "Answer: Sometimes its not possible to store the whole dataset in the GPU that's why we prefer to use data in batches.\n",
    "\n",
    "#### Question 12: How busy is the GPU for a batch size of 100? How much GPU memory is used? Hint: run 'nvidia-smi' on the cloud computer a few times during training.\n",
    "\n",
    "Answer: This question doesnt apply in my case, I'm using my own laptop.\n",
    "\n",
    "#### Question 13: What is the processing time for one training epoch when the batch size is 100? What is the processing time for one epoch when the batch size is 1,000? What is the processing time for one epoch when the batch size is 10,000? Explain the results. \n",
    "\n",
    "Answer: \n",
    "time for one training epoch when the batch size is 100: 15 sec\n",
    "time for one epoch when the batch size is 1,000: 4 sec\n",
    "time for one epoch when the batch size is 10,000: 2 sec\n",
    "\n",
    "\n",
    "#### Question 14: How many times are the weights in the DNN updated in each training epoch if the batch size is 100? How many times are the weights in the DNN updated in each training epoch if the batch size is 1,000? How many times are the weights in the DNN updated in each training epoch if the batch size is 10,000?  \n",
    "\n",
    "Answer: We can calculate the number of times weight are updated by: (data size/batch size)\n",
    "\n",
    "times are the weights in the DNN updated in each training epoch if the batch size is 100: 534895/100 = 5348.95\n",
    "times are the weights in the DNN updated in each training epoch if the batch size is 1,000: 534895/1000 = 534.895\n",
    "times are the weights in the DNN updated in each training epoch if the batch size is 10,000: 534895/10000 = 53.4895\n",
    "\n",
    "\n",
    "#### Question 15: What limits how large the batch size can be?\n",
    "\n",
    "Answer: We decide the batch size on the basis of RAM and GPU memory.\n",
    "\n",
    "#### Question 16: Generally speaking, how is the learning rate related to the batch size? If the batch size is decreased, how should the learning rate be changed?\n",
    "\n",
    "Answer: Batch size directly affects the learning rate. With the large batch size we get more accurate results, because with large batch size we optimize loss simultaneously.\n",
    "\n",
    "Lets use a batch size of 10,000 from now on, and a learning rate of 0.1.\n"
   ]
  },
  {
   "cell_type": "markdown",
   "metadata": {},
   "source": [
    "# Part 15: Increasing the complexity\n",
    "\n",
    "Lets try some different configurations of number of layers and number of nodes per layer.\n",
    "\n",
    "#### Question 17: How many trainable parameters does the network with 4 dense layers with 50 nodes each have, compared to the initial network with 2 layers and 20 nodes per layer? Hint: use model.summary()\n",
    "\n",
    "Answer:\n",
    "1. Network with 4 dense layers with 50 nodes: Trainable params: 12,351\n",
    "2. Network with 2 dense layers with 20 nodes: Trainable params: 2,301"
   ]
  },
  {
   "cell_type": "markdown",
   "metadata": {},
   "source": [
    "### 4 layers, 20 nodes, class weights"
   ]
  },
  {
   "cell_type": "code",
   "execution_count": 51,
   "metadata": {
    "scrolled": true
   },
   "outputs": [
    {
     "name": "stdout",
     "output_type": "stream",
     "text": [
      "Train on 534895 samples, validate on 114621 samples\n",
      "Epoch 1/20\n",
      "534895/534895 [==============================] - 2s 3us/step - loss: 0.4403 - accuracy: 0.8410 - val_loss: 0.4385 - val_accuracy: 0.8405\n",
      "Epoch 2/20\n",
      "534895/534895 [==============================] - 2s 3us/step - loss: 0.4376 - accuracy: 0.8410 - val_loss: 0.4383 - val_accuracy: 0.8405\n",
      "Epoch 3/20\n",
      "534895/534895 [==============================] - 2s 3us/step - loss: 0.4373 - accuracy: 0.8410 - val_loss: 0.4380 - val_accuracy: 0.8405\n",
      "Epoch 4/20\n",
      "534895/534895 [==============================] - 2s 3us/step - loss: 0.4371 - accuracy: 0.8410 - val_loss: 0.4377 - val_accuracy: 0.8405\n",
      "Epoch 5/20\n",
      "534895/534895 [==============================] - 2s 3us/step - loss: 0.4368 - accuracy: 0.8410 - val_loss: 0.4374 - val_accuracy: 0.8405\n",
      "Epoch 6/20\n",
      "534895/534895 [==============================] - 2s 3us/step - loss: 0.4365 - accuracy: 0.8410 - val_loss: 0.4371 - val_accuracy: 0.8405\n",
      "Epoch 7/20\n",
      "534895/534895 [==============================] - 2s 3us/step - loss: 0.4361 - accuracy: 0.8410 - val_loss: 0.4367 - val_accuracy: 0.8405\n",
      "Epoch 8/20\n",
      "534895/534895 [==============================] - 2s 3us/step - loss: 0.4358 - accuracy: 0.8410 - val_loss: 0.4364 - val_accuracy: 0.8405\n",
      "Epoch 9/20\n",
      "534895/534895 [==============================] - 2s 3us/step - loss: 0.4354 - accuracy: 0.8410 - val_loss: 0.4359 - val_accuracy: 0.8405\n",
      "Epoch 10/20\n",
      "534895/534895 [==============================] - 2s 3us/step - loss: 0.4349 - accuracy: 0.8410 - val_loss: 0.4354 - val_accuracy: 0.8405\n",
      "Epoch 11/20\n",
      "534895/534895 [==============================] - 2s 3us/step - loss: 0.4343 - accuracy: 0.8410 - val_loss: 0.4348 - val_accuracy: 0.8405\n",
      "Epoch 12/20\n",
      "534895/534895 [==============================] - 2s 3us/step - loss: 0.4337 - accuracy: 0.8410 - val_loss: 0.4341 - val_accuracy: 0.8405\n",
      "Epoch 13/20\n",
      "534895/534895 [==============================] - 2s 3us/step - loss: 0.4329 - accuracy: 0.8410 - val_loss: 0.4333 - val_accuracy: 0.8405\n",
      "Epoch 14/20\n",
      "534895/534895 [==============================] - 2s 3us/step - loss: 0.4320 - accuracy: 0.8410 - val_loss: 0.4322 - val_accuracy: 0.8405\n",
      "Epoch 15/20\n",
      "534895/534895 [==============================] - 2s 3us/step - loss: 0.4309 - accuracy: 0.8410 - val_loss: 0.4310 - val_accuracy: 0.8405\n",
      "Epoch 16/20\n",
      "534895/534895 [==============================] - 2s 3us/step - loss: 0.4295 - accuracy: 0.8410 - val_loss: 0.4294 - val_accuracy: 0.8405\n",
      "Epoch 17/20\n",
      "534895/534895 [==============================] - 2s 3us/step - loss: 0.4277 - accuracy: 0.8410 - val_loss: 0.4274 - val_accuracy: 0.8405\n",
      "Epoch 18/20\n",
      "534895/534895 [==============================] - 2s 3us/step - loss: 0.4254 - accuracy: 0.8410 - val_loss: 0.4248 - val_accuracy: 0.8405\n",
      "Epoch 19/20\n",
      "534895/534895 [==============================] - 2s 3us/step - loss: 0.4224 - accuracy: 0.8410 - val_loss: 0.4213 - val_accuracy: 0.8405\n",
      "Epoch 20/20\n",
      "534895/534895 [==============================] - 2s 3us/step - loss: 0.4184 - accuracy: 0.8410 - val_loss: 0.4166 - val_accuracy: 0.8405\n"
     ]
    }
   ],
   "source": [
    "# Setup some training parameters\n",
    "batch_size = 10000\n",
    "epochs = 20\n",
    "input_shape =  Xtrain.shape[1]\n",
    "\n",
    "# Build and train model\n",
    "model3 =  build_DNN(input_shape = input_shape,n_layers = 4,n_nodes = 50,learning_rate = 0.1)\n",
    "\n",
    "history3 = model3.fit(x = Xtrain, y = Ytrain, epochs = epochs, validation_data = (Xval,Yval),  \n",
    "                      batch_size = batch_size)\n"
   ]
  },
  {
   "cell_type": "code",
   "execution_count": 52,
   "metadata": {},
   "outputs": [
    {
     "name": "stdout",
     "output_type": "stream",
     "text": [
      "Model: \"sequential_11\"\n",
      "_________________________________________________________________\n",
      "Layer (type)                 Output Shape              Param #   \n",
      "=================================================================\n",
      "dense_29 (Dense)             (None, 50)                4650      \n",
      "_________________________________________________________________\n",
      "dense_30 (Dense)             (None, 50)                2550      \n",
      "_________________________________________________________________\n",
      "dense_31 (Dense)             (None, 50)                2550      \n",
      "_________________________________________________________________\n",
      "dense_32 (Dense)             (None, 50)                2550      \n",
      "_________________________________________________________________\n",
      "dense_33 (Dense)             (None, 1)                 51        \n",
      "=================================================================\n",
      "Total params: 12,351\n",
      "Trainable params: 12,351\n",
      "Non-trainable params: 0\n",
      "_________________________________________________________________\n"
     ]
    }
   ],
   "source": [
    "model3.summary()"
   ]
  },
  {
   "cell_type": "code",
   "execution_count": 53,
   "metadata": {},
   "outputs": [
    {
     "name": "stdout",
     "output_type": "stream",
     "text": [
      "114620/114620 [==============================] - 2s 13us/step\n",
      "Test loss: 0.4172\n",
      "Test accuracy: 0.8402\n"
     ]
    }
   ],
   "source": [
    "# Evaluate model on test data\n",
    "score = model3.evaluate(x = Xtest, y = Ytest)\n",
    "\n",
    "print('Test loss: %.4f' % score[0])\n",
    "print('Test accuracy: %.4f' % score[1])"
   ]
  },
  {
   "cell_type": "code",
   "execution_count": 54,
   "metadata": {},
   "outputs": [
    {
     "data": {
      "image/png": "[encoded data removed]",
      "text/plain": [
       "<Figure size 720x288 with 1 Axes>"
      ]
     },
     "metadata": {
      "needs_background": "light"
     },
     "output_type": "display_data"
    },
    {
     "data": {
      "image/png": "[encoded data removed]",
      "text/plain": [
       "<Figure size 720x288 with 1 Axes>"
      ]
     },
     "metadata": {
      "needs_background": "light"
     },
     "output_type": "display_data"
    }
   ],
   "source": [
    "plot_results(history3)"
   ]
  },
  {
   "cell_type": "markdown",
   "metadata": {},
   "source": [
    "### 2 layers, 50 nodes, class weights"
   ]
  },
  {
   "cell_type": "code",
   "execution_count": 55,
   "metadata": {
    "scrolled": true
   },
   "outputs": [
    {
     "name": "stdout",
     "output_type": "stream",
     "text": [
      "Train on 534895 samples, validate on 114621 samples\n",
      "Epoch 1/20\n",
      "534895/534895 [==============================] - 1s 2us/step - loss: 0.4323 - accuracy: 0.8280 - val_loss: 0.3928 - val_accuracy: 0.8405\n",
      "Epoch 2/20\n",
      "534895/534895 [==============================] - 1s 2us/step - loss: 0.3599 - accuracy: 0.8410 - val_loss: 0.3238 - val_accuracy: 0.8405\n",
      "Epoch 3/20\n",
      "534895/534895 [==============================] - 1s 2us/step - loss: 0.2905 - accuracy: 0.8442 - val_loss: 0.2590 - val_accuracy: 0.8526\n",
      "Epoch 4/20\n",
      "534895/534895 [==============================] - 1s 2us/step - loss: 0.2392 - accuracy: 0.8575 - val_loss: 0.2220 - val_accuracy: 0.8719\n",
      "Epoch 5/20\n",
      "534895/534895 [==============================] - 1s 2us/step - loss: 0.2134 - accuracy: 0.8864 - val_loss: 0.2050 - val_accuracy: 0.8962\n",
      "Epoch 6/20\n",
      "534895/534895 [==============================] - 1s 2us/step - loss: 0.2012 - accuracy: 0.8981 - val_loss: 0.1963 - val_accuracy: 0.9019\n",
      "Epoch 7/20\n",
      "534895/534895 [==============================] - 1s 2us/step - loss: 0.1945 - accuracy: 0.9030 - val_loss: 0.1910 - val_accuracy: 0.9069\n",
      "Epoch 8/20\n",
      "534895/534895 [==============================] - 1s 2us/step - loss: 0.1902 - accuracy: 0.9057 - val_loss: 0.1874 - val_accuracy: 0.9074\n",
      "Epoch 9/20\n",
      "534895/534895 [==============================] - 1s 2us/step - loss: 0.1871 - accuracy: 0.9062 - val_loss: 0.1847 - val_accuracy: 0.9079\n",
      "Epoch 10/20\n",
      "534895/534895 [==============================] - 1s 2us/step - loss: 0.1846 - accuracy: 0.9064 - val_loss: 0.1825 - val_accuracy: 0.9080\n",
      "Epoch 11/20\n",
      "534895/534895 [==============================] - 1s 2us/step - loss: 0.1826 - accuracy: 0.9066 - val_loss: 0.1806 - val_accuracy: 0.9081\n",
      "Epoch 12/20\n",
      "534895/534895 [==============================] - 1s 2us/step - loss: 0.1808 - accuracy: 0.9067 - val_loss: 0.1789 - val_accuracy: 0.9081\n",
      "Epoch 13/20\n",
      "534895/534895 [==============================] - 1s 2us/step - loss: 0.1793 - accuracy: 0.9070 - val_loss: 0.1775 - val_accuracy: 0.9085\n",
      "Epoch 14/20\n",
      "534895/534895 [==============================] - 1s 2us/step - loss: 0.1779 - accuracy: 0.9073 - val_loss: 0.1763 - val_accuracy: 0.9086\n",
      "Epoch 15/20\n",
      "534895/534895 [==============================] - 1s 2us/step - loss: 0.1766 - accuracy: 0.9077 - val_loss: 0.1751 - val_accuracy: 0.9090\n",
      "Epoch 16/20\n",
      "534895/534895 [==============================] - 1s 2us/step - loss: 0.1755 - accuracy: 0.9081 - val_loss: 0.1740 - val_accuracy: 0.9094\n",
      "Epoch 17/20\n",
      "534895/534895 [==============================] - 1s 2us/step - loss: 0.1745 - accuracy: 0.9084 - val_loss: 0.1731 - val_accuracy: 0.9097\n",
      "Epoch 18/20\n",
      "534895/534895 [==============================] - 1s 2us/step - loss: 0.1735 - accuracy: 0.9087 - val_loss: 0.1722 - val_accuracy: 0.9099\n",
      "Epoch 19/20\n",
      "534895/534895 [==============================] - 1s 2us/step - loss: 0.1726 - accuracy: 0.9089 - val_loss: 0.1713 - val_accuracy: 0.9101\n",
      "Epoch 20/20\n",
      "534895/534895 [==============================] - 1s 2us/step - loss: 0.1718 - accuracy: 0.9090 - val_loss: 0.1706 - val_accuracy: 0.9103\n"
     ]
    }
   ],
   "source": [
    "# Setup some training parameters\n",
    "batch_size = 10000\n",
    "epochs = 20\n",
    "input_shape = Xtrain.shape[1]\n",
    "\n",
    "# Build and train model\n",
    "model4 = build_DNN(input_shape = input_shape,n_layers = 2,n_nodes = 50,learning_rate = 0.1)  \n",
    "\n",
    "history4 = model4.fit(x = Xtrain, y = Ytrain, epochs = epochs, validation_data = (Xval,Yval),  \n",
    "                      batch_size = batch_size,\n",
    "                      class_weight = class_weight_balance)"
   ]
  },
  {
   "cell_type": "code",
   "execution_count": 56,
   "metadata": {},
   "outputs": [
    {
     "name": "stdout",
     "output_type": "stream",
     "text": [
      "114620/114620 [==============================] - 1s 12us/step\n",
      "Test loss: 0.1724\n",
      "Test accuracy: 0.9090\n"
     ]
    }
   ],
   "source": [
    "# Evaluate model on test data\n",
    "score = model4.evaluate(x = Xtest, y = Ytest)\n",
    "\n",
    "print('Test loss: %.4f' % score[0])\n",
    "print('Test accuracy: %.4f' % score[1])"
   ]
  },
  {
   "cell_type": "code",
   "execution_count": 57,
   "metadata": {},
   "outputs": [
    {
     "data": {
      "image/png": "[encoded data removed]",
      "text/plain": [
       "<Figure size 720x288 with 1 Axes>"
      ]
     },
     "metadata": {
      "needs_background": "light"
     },
     "output_type": "display_data"
    },
    {
     "data": {
      "image/png": "[encoded data removed]",
      "text/plain": [
       "<Figure size 720x288 with 1 Axes>"
      ]
     },
     "metadata": {
      "needs_background": "light"
     },
     "output_type": "display_data"
    }
   ],
   "source": [
    "plot_results(history4)"
   ]
  },
  {
   "cell_type": "markdown",
   "metadata": {},
   "source": [
    "### 4 layers, 50 nodes, class weights"
   ]
  },
  {
   "cell_type": "code",
   "execution_count": 58,
   "metadata": {
    "scrolled": false
   },
   "outputs": [
    {
     "name": "stdout",
     "output_type": "stream",
     "text": [
      "Train on 534895 samples, validate on 114621 samples\n",
      "Epoch 1/20\n",
      "534895/534895 [==============================] - 2s 3us/step - loss: 0.4416 - accuracy: 0.8410 - val_loss: 0.4378 - val_accuracy: 0.8405\n",
      "Epoch 2/20\n",
      "534895/534895 [==============================] - 2s 3us/step - loss: 0.4368 - accuracy: 0.8410 - val_loss: 0.4374 - val_accuracy: 0.8405\n",
      "Epoch 3/20\n",
      "534895/534895 [==============================] - 2s 3us/step - loss: 0.4364 - accuracy: 0.8410 - val_loss: 0.4370 - val_accuracy: 0.8405\n",
      "Epoch 4/20\n",
      "534895/534895 [==============================] - 2s 3us/step - loss: 0.4360 - accuracy: 0.8410 - val_loss: 0.4365 - val_accuracy: 0.8405\n",
      "Epoch 5/20\n",
      "534895/534895 [==============================] - 2s 3us/step - loss: 0.4355 - accuracy: 0.8410 - val_loss: 0.4360 - val_accuracy: 0.8405\n",
      "Epoch 6/20\n",
      "534895/534895 [==============================] - 2s 3us/step - loss: 0.4350 - accuracy: 0.8410 - val_loss: 0.4355 - val_accuracy: 0.8405\n",
      "Epoch 7/20\n",
      "534895/534895 [==============================] - 2s 3us/step - loss: 0.4344 - accuracy: 0.8410 - val_loss: 0.4348 - val_accuracy: 0.8405\n",
      "Epoch 8/20\n",
      "534895/534895 [==============================] - 2s 3us/step - loss: 0.4337 - accuracy: 0.8410 - val_loss: 0.4340 - val_accuracy: 0.8405\n",
      "Epoch 9/20\n",
      "534895/534895 [==============================] - 2s 3us/step - loss: 0.4328 - accuracy: 0.8410 - val_loss: 0.4331 - val_accuracy: 0.8405\n",
      "Epoch 10/20\n",
      "534895/534895 [==============================] - 2s 3us/step - loss: 0.4318 - accuracy: 0.8410 - val_loss: 0.4320 - val_accuracy: 0.8405\n",
      "Epoch 11/20\n",
      "534895/534895 [==============================] - 2s 3us/step - loss: 0.4306 - accuracy: 0.8410 - val_loss: 0.4306 - val_accuracy: 0.8405\n",
      "Epoch 12/20\n",
      "534895/534895 [==============================] - 2s 3us/step - loss: 0.4290 - accuracy: 0.8410 - val_loss: 0.4289 - val_accuracy: 0.8405\n",
      "Epoch 13/20\n",
      "534895/534895 [==============================] - 2s 3us/step - loss: 0.4271 - accuracy: 0.8410 - val_loss: 0.4266 - val_accuracy: 0.8405\n",
      "Epoch 14/20\n",
      "534895/534895 [==============================] - 2s 3us/step - loss: 0.4245 - accuracy: 0.8410 - val_loss: 0.4237 - val_accuracy: 0.8405\n",
      "Epoch 15/20\n",
      "534895/534895 [==============================] - 2s 3us/step - loss: 0.4211 - accuracy: 0.8410 - val_loss: 0.4197 - val_accuracy: 0.8405\n",
      "Epoch 16/20\n",
      "534895/534895 [==============================] - 2s 3us/step - loss: 0.4164 - accuracy: 0.8410 - val_loss: 0.4141 - val_accuracy: 0.8405\n",
      "Epoch 17/20\n",
      "534895/534895 [==============================] - 2s 3us/step - loss: 0.4098 - accuracy: 0.8410 - val_loss: 0.4062 - val_accuracy: 0.8405\n",
      "Epoch 18/20\n",
      "534895/534895 [==============================] - 2s 3us/step - loss: 0.4002 - accuracy: 0.8410 - val_loss: 0.3944 - val_accuracy: 0.8405\n",
      "Epoch 19/20\n",
      "534895/534895 [==============================] - 2s 3us/step - loss: 0.3858 - accuracy: 0.8410 - val_loss: 0.3766 - val_accuracy: 0.8405\n",
      "Epoch 20/20\n",
      "534895/534895 [==============================] - 2s 3us/step - loss: 0.3639 - accuracy: 0.8410 - val_loss: 0.3497 - val_accuracy: 0.8405\n"
     ]
    }
   ],
   "source": [
    "# Setup some training parameters\n",
    "batch_size = 10000\n",
    "epochs = 20\n",
    "input_shape = Xtrain.shape[1]\n",
    "\n",
    "# Build and train model\n",
    "model5 = build_DNN(input_shape = input_shape,n_layers = 4,n_nodes = 50,learning_rate = 0.1)\n",
    "\n",
    "history5 = model5.fit(x = Xtrain, y = Ytrain, epochs = epochs, validation_data = (Xval,Yval),  \n",
    "                      batch_size = batch_size,\n",
    "                      class_weight = class_weight_balance)"
   ]
  },
  {
   "cell_type": "code",
   "execution_count": 59,
   "metadata": {},
   "outputs": [
    {
     "name": "stdout",
     "output_type": "stream",
     "text": [
      "Model: \"sequential_13\"\n",
      "_________________________________________________________________\n",
      "Layer (type)                 Output Shape              Param #   \n",
      "=================================================================\n",
      "dense_37 (Dense)             (None, 50)                4650      \n",
      "_________________________________________________________________\n",
      "dense_38 (Dense)             (None, 50)                2550      \n",
      "_________________________________________________________________\n",
      "dense_39 (Dense)             (None, 50)                2550      \n",
      "_________________________________________________________________\n",
      "dense_40 (Dense)             (None, 50)                2550      \n",
      "_________________________________________________________________\n",
      "dense_41 (Dense)             (None, 1)                 51        \n",
      "=================================================================\n",
      "Total params: 12,351\n",
      "Trainable params: 12,351\n",
      "Non-trainable params: 0\n",
      "_________________________________________________________________\n"
     ]
    }
   ],
   "source": [
    "model5.summary()"
   ]
  },
  {
   "cell_type": "code",
   "execution_count": 60,
   "metadata": {},
   "outputs": [
    {
     "name": "stdout",
     "output_type": "stream",
     "text": [
      "114620/114620 [==============================] - 2s 14us/step\n",
      "Test loss: 0.3504\n",
      "Test accuracy: 0.8402\n"
     ]
    }
   ],
   "source": [
    "# Evaluate model on test data\n",
    "score = model5.evaluate(x = Xtest, y = Ytest)\n",
    "\n",
    "print('Test loss: %.4f' % score[0])\n",
    "print('Test accuracy: %.4f' % score[1])"
   ]
  },
  {
   "cell_type": "code",
   "execution_count": 61,
   "metadata": {},
   "outputs": [
    {
     "data": {
      "image/png": "[encoded data removed]",
      "text/plain": [
       "<Figure size 720x288 with 1 Axes>"
      ]
     },
     "metadata": {
      "needs_background": "light"
     },
     "output_type": "display_data"
    },
    {
     "data": {
      "image/png": "[encoded data removed]",
      "text/plain": [
       "<Figure size 720x288 with 1 Axes>"
      ]
     },
     "metadata": {
      "needs_background": "light"
     },
     "output_type": "display_data"
    }
   ],
   "source": [
    "plot_results(history5)"
   ]
  },
  {
   "cell_type": "markdown",
   "metadata": {},
   "source": [
    "# Part 16: Batch normalization\n",
    "\n",
    "Now add batch normalization after each dense layer. Remember to import BatchNormalization from keras.layers. \n",
    "\n",
    "See https://keras.io/layers/normalization/ for information about how to call the function.\n",
    "\n",
    "#### Question 18: Why is batch normalization important when training deep networks?\n",
    "\n",
    "Answer: Batch normalization is a technique for improving the speed, performance, and stability of the deep neural network. It can help to reduce the problem of internal covariate shift.\n",
    "\n",
    "Refernce link:\n",
    "https://en.wikipedia.org/wiki/Batch_normalization"
   ]
  },
  {
   "cell_type": "markdown",
   "metadata": {},
   "source": [
    "### 2 layers, 20 nodes, class weights, batch normalization"
   ]
  },
  {
   "cell_type": "code",
   "execution_count": 62,
   "metadata": {
    "scrolled": true
   },
   "outputs": [
    {
     "name": "stdout",
     "output_type": "stream",
     "text": [
      "Train on 534895 samples, validate on 114621 samples\n",
      "Epoch 1/20\n",
      "534895/534895 [==============================] - 1s 3us/step - loss: 0.2891 - accuracy: 0.8872 - val_loss: 0.4238 - val_accuracy: 0.8405\n",
      "Epoch 2/20\n",
      "534895/534895 [==============================] - 1s 2us/step - loss: 0.1857 - accuracy: 0.9090 - val_loss: 0.3578 - val_accuracy: 0.8405\n",
      "Epoch 3/20\n",
      "534895/534895 [==============================] - 1s 2us/step - loss: 0.1727 - accuracy: 0.9112 - val_loss: 0.3390 - val_accuracy: 0.8405\n",
      "Epoch 4/20\n",
      "534895/534895 [==============================] - 1s 2us/step - loss: 0.1669 - accuracy: 0.9127 - val_loss: 0.2999 - val_accuracy: 0.8405\n",
      "Epoch 5/20\n",
      "534895/534895 [==============================] - 1s 2us/step - loss: 0.1634 - accuracy: 0.9138 - val_loss: 0.2598 - val_accuracy: 0.8406\n",
      "Epoch 6/20\n",
      "534895/534895 [==============================] - 1s 2us/step - loss: 0.1610 - accuracy: 0.9146 - val_loss: 0.2159 - val_accuracy: 0.8464\n",
      "Epoch 7/20\n",
      "534895/534895 [==============================] - 1s 2us/step - loss: 0.1591 - accuracy: 0.9154 - val_loss: 0.1808 - val_accuracy: 0.8737\n",
      "Epoch 8/20\n",
      "534895/534895 [==============================] - 1s 2us/step - loss: 0.1574 - accuracy: 0.9159 - val_loss: 0.1706 - val_accuracy: 0.8877\n",
      "Epoch 9/20\n",
      "534895/534895 [==============================] - 1s 2us/step - loss: 0.1562 - accuracy: 0.9163 - val_loss: 0.1600 - val_accuracy: 0.9142\n",
      "Epoch 10/20\n",
      "534895/534895 [==============================] - 1s 2us/step - loss: 0.1550 - accuracy: 0.9167 - val_loss: 0.1555 - val_accuracy: 0.9169\n",
      "Epoch 11/20\n",
      "534895/534895 [==============================] - 1s 2us/step - loss: 0.1540 - accuracy: 0.9172 - val_loss: 0.1541 - val_accuracy: 0.9176\n",
      "Epoch 12/20\n",
      "534895/534895 [==============================] - 1s 2us/step - loss: 0.1532 - accuracy: 0.9174 - val_loss: 0.1540 - val_accuracy: 0.9178\n",
      "Epoch 13/20\n",
      "534895/534895 [==============================] - 1s 2us/step - loss: 0.1524 - accuracy: 0.9177 - val_loss: 0.1517 - val_accuracy: 0.9186\n",
      "Epoch 14/20\n",
      "534895/534895 [==============================] - 1s 2us/step - loss: 0.1516 - accuracy: 0.9179 - val_loss: 0.1517 - val_accuracy: 0.9184\n",
      "Epoch 15/20\n",
      "534895/534895 [==============================] - 1s 2us/step - loss: 0.1508 - accuracy: 0.9182 - val_loss: 0.1503 - val_accuracy: 0.9190\n",
      "Epoch 16/20\n",
      "534895/534895 [==============================] - 1s 2us/step - loss: 0.1502 - accuracy: 0.9184 - val_loss: 0.1497 - val_accuracy: 0.9197\n",
      "Epoch 17/20\n",
      "534895/534895 [==============================] - 1s 2us/step - loss: 0.1500 - accuracy: 0.9185 - val_loss: 0.1504 - val_accuracy: 0.9187\n",
      "Epoch 18/20\n",
      "534895/534895 [==============================] - 1s 2us/step - loss: 0.1492 - accuracy: 0.9188 - val_loss: 0.1483 - val_accuracy: 0.9202\n",
      "Epoch 19/20\n",
      "534895/534895 [==============================] - 1s 2us/step - loss: 0.1485 - accuracy: 0.9192 - val_loss: 0.1477 - val_accuracy: 0.9204\n",
      "Epoch 20/20\n",
      "534895/534895 [==============================] - 1s 2us/step - loss: 0.1479 - accuracy: 0.9194 - val_loss: 0.1472 - val_accuracy: 0.9205\n"
     ]
    }
   ],
   "source": [
    "# Setup some training parameters\n",
    "batch_size = 10000\n",
    "epochs = 20\n",
    "input_shape = Xtrain.shape[1]\n",
    "\n",
    "# Build and train model\n",
    "model6 = build_DNN(input_shape = input_shape,n_layers = 2,n_nodes = 20,learning_rate = 0.1, use_bn=True)\n",
    "\n",
    "history6 = model6.fit(x = Xtrain, y = Ytrain, epochs = epochs, validation_data = (Xval,Yval),  \n",
    "                      batch_size = batch_size,\n",
    "                      class_weight = class_weight_balance)"
   ]
  },
  {
   "cell_type": "code",
   "execution_count": 63,
   "metadata": {},
   "outputs": [
    {
     "name": "stdout",
     "output_type": "stream",
     "text": [
      "114620/114620 [==============================] - 2s 16us/step\n",
      "Test loss: 0.1481\n",
      "Test accuracy: 0.9192\n"
     ]
    }
   ],
   "source": [
    "# Evaluate model on test data\n",
    "score = model6.evaluate(x = Xtest, y = Ytest)\n",
    "\n",
    "print('Test loss: %.4f' % score[0])\n",
    "print('Test accuracy: %.4f' % score[1])"
   ]
  },
  {
   "cell_type": "code",
   "execution_count": 64,
   "metadata": {},
   "outputs": [
    {
     "data": {
      "image/png": "[encoded data removed]",
      "text/plain": [
       "<Figure size 720x288 with 1 Axes>"
      ]
     },
     "metadata": {
      "needs_background": "light"
     },
     "output_type": "display_data"
    },
    {
     "data": {
      "image/png": "[encoded data removed]",
      "text/plain": [
       "<Figure size 720x288 with 1 Axes>"
      ]
     },
     "metadata": {
      "needs_background": "light"
     },
     "output_type": "display_data"
    }
   ],
   "source": [
    "plot_results(history6)"
   ]
  },
  {
   "cell_type": "markdown",
   "metadata": {},
   "source": [
    "# Part 17: Activation function\n",
    "\n",
    "Try changing the activation function in each layer from sigmoid to ReLU, write down the test accuracy.\n",
    "\n",
    "Note: the last layer should still have a sigmoid activation function."
   ]
  },
  {
   "cell_type": "markdown",
   "metadata": {},
   "source": [
    "### 2 layers, 20 nodes, class weights, ReLU, no batch normalization"
   ]
  },
  {
   "cell_type": "code",
   "execution_count": 65,
   "metadata": {
    "scrolled": true
   },
   "outputs": [
    {
     "name": "stdout",
     "output_type": "stream",
     "text": [
      "Train on 534895 samples, validate on 114621 samples\n",
      "Epoch 1/20\n",
      "534895/534895 [==============================] - 1s 2us/step - loss: 0.2674 - accuracy: 0.8746 - val_loss: 0.1952 - val_accuracy: 0.8989\n",
      "Epoch 2/20\n",
      "534895/534895 [==============================] - 1s 2us/step - loss: 0.1892 - accuracy: 0.9016 - val_loss: 0.1836 - val_accuracy: 0.9054\n",
      "Epoch 3/20\n",
      "534895/534895 [==============================] - 1s 2us/step - loss: 0.1818 - accuracy: 0.9063 - val_loss: 0.1785 - val_accuracy: 0.9087\n",
      "Epoch 4/20\n",
      "534895/534895 [==============================] - 1s 2us/step - loss: 0.1773 - accuracy: 0.9091 - val_loss: 0.1746 - val_accuracy: 0.9109\n",
      "Epoch 5/20\n",
      "534895/534895 [==============================] - 1s 2us/step - loss: 0.1738 - accuracy: 0.9110 - val_loss: 0.1715 - val_accuracy: 0.9125\n",
      "Epoch 6/20\n",
      "534895/534895 [==============================] - 1s 2us/step - loss: 0.1709 - accuracy: 0.9123 - val_loss: 0.1689 - val_accuracy: 0.9132\n",
      "Epoch 7/20\n",
      "534895/534895 [==============================] - 1s 2us/step - loss: 0.1684 - accuracy: 0.9131 - val_loss: 0.1669 - val_accuracy: 0.9138\n",
      "Epoch 8/20\n",
      "534895/534895 [==============================] - 1s 2us/step - loss: 0.1664 - accuracy: 0.9137 - val_loss: 0.1651 - val_accuracy: 0.9144\n",
      "Epoch 9/20\n",
      "534895/534895 [==============================] - 1s 2us/step - loss: 0.1646 - accuracy: 0.9141 - val_loss: 0.1635 - val_accuracy: 0.9148\n",
      "Epoch 10/20\n",
      "534895/534895 [==============================] - 1s 2us/step - loss: 0.1629 - accuracy: 0.9145 - val_loss: 0.1619 - val_accuracy: 0.9154\n",
      "Epoch 11/20\n",
      "534895/534895 [==============================] - 1s 2us/step - loss: 0.1614 - accuracy: 0.9151 - val_loss: 0.1605 - val_accuracy: 0.9157\n",
      "Epoch 12/20\n",
      "534895/534895 [==============================] - 1s 2us/step - loss: 0.1600 - accuracy: 0.9154 - val_loss: 0.1593 - val_accuracy: 0.9158\n",
      "Epoch 13/20\n",
      "534895/534895 [==============================] - 1s 2us/step - loss: 0.1588 - accuracy: 0.9156 - val_loss: 0.1581 - val_accuracy: 0.9161\n",
      "Epoch 14/20\n",
      "534895/534895 [==============================] - 1s 2us/step - loss: 0.1576 - accuracy: 0.9159 - val_loss: 0.1571 - val_accuracy: 0.9165\n",
      "Epoch 15/20\n",
      "534895/534895 [==============================] - 1s 2us/step - loss: 0.1566 - accuracy: 0.9162 - val_loss: 0.1563 - val_accuracy: 0.9165\n",
      "Epoch 16/20\n",
      "534895/534895 [==============================] - 1s 2us/step - loss: 0.1558 - accuracy: 0.9163 - val_loss: 0.1555 - val_accuracy: 0.9168\n",
      "Epoch 17/20\n",
      "534895/534895 [==============================] - 1s 2us/step - loss: 0.1550 - accuracy: 0.9165 - val_loss: 0.1549 - val_accuracy: 0.9170\n",
      "Epoch 18/20\n",
      "534895/534895 [==============================] - 1s 2us/step - loss: 0.1544 - accuracy: 0.9168 - val_loss: 0.1542 - val_accuracy: 0.9170\n",
      "Epoch 19/20\n",
      "534895/534895 [==============================] - 1s 2us/step - loss: 0.1537 - accuracy: 0.9169 - val_loss: 0.1536 - val_accuracy: 0.9174\n",
      "Epoch 20/20\n",
      "534895/534895 [==============================] - 1s 2us/step - loss: 0.1531 - accuracy: 0.9170 - val_loss: 0.1530 - val_accuracy: 0.9175\n"
     ]
    }
   ],
   "source": [
    "# Setup some training parameters\n",
    "batch_size = 10000\n",
    "epochs = 20\n",
    "input_shape = Xtrain.shape[1]\n",
    "\n",
    "# Build and train model\n",
    "model7 = build_DNN(input_shape = input_shape,n_layers = 2,n_nodes = 20,learning_rate = 0.1 ,act_fun = 'relu')\n",
    "\n",
    "history7 = model7.fit(x = Xtrain, y = Ytrain, epochs = epochs, validation_data = (Xval,Yval),  \n",
    "                      batch_size = batch_size,\n",
    "                      class_weight = class_weight_balance)"
   ]
  },
  {
   "cell_type": "code",
   "execution_count": 66,
   "metadata": {},
   "outputs": [
    {
     "name": "stdout",
     "output_type": "stream",
     "text": [
      "114620/114620 [==============================] - 1s 11us/step\n",
      "Test loss: 0.1581\n",
      "Test accuracy: 0.9164\n"
     ]
    }
   ],
   "source": [
    "# Evaluate model on test data\n",
    "score = model7.evaluate(x = Xtest, y = Ytest)\n",
    "\n",
    "print('Test loss: %.4f' % score[0])\n",
    "print('Test accuracy: %.4f' % score[1])"
   ]
  },
  {
   "cell_type": "code",
   "execution_count": 67,
   "metadata": {},
   "outputs": [
    {
     "data": {
      "image/png": "[encoded data removed]",
      "text/plain": [
       "<Figure size 720x288 with 1 Axes>"
      ]
     },
     "metadata": {
      "needs_background": "light"
     },
     "output_type": "display_data"
    },
    {
     "data": {
      "image/png": "[encoded data removed]",
      "text/plain": [
       "<Figure size 720x288 with 1 Axes>"
      ]
     },
     "metadata": {
      "needs_background": "light"
     },
     "output_type": "display_data"
    }
   ],
   "source": [
    "plot_results(history7)"
   ]
  },
  {
   "cell_type": "markdown",
   "metadata": {},
   "source": [
    "# Part 18: Optimizer\n",
    "\n",
    "Try changing the optimizer from SGD to Adam (with learning rate 0.1 as before). Remember to import the Adam optimizer from keras.optimizers. \n",
    "\n",
    "https://keras.io/optimizers/\n"
   ]
  },
  {
   "cell_type": "markdown",
   "metadata": {},
   "source": [
    "### 2 layers, 20 nodes, class weights, Adam optimizer, no batch normalization, sigmoid activations"
   ]
  },
  {
   "cell_type": "code",
   "execution_count": 68,
   "metadata": {
    "scrolled": true
   },
   "outputs": [
    {
     "name": "stdout",
     "output_type": "stream",
     "text": [
      "Train on 534895 samples, validate on 114621 samples\n",
      "Epoch 1/20\n",
      "534895/534895 [==============================] - 1s 2us/step - loss: 0.2116 - accuracy: 0.8873 - val_loss: 0.1616 - val_accuracy: 0.9144\n",
      "Epoch 2/20\n",
      "534895/534895 [==============================] - 1s 2us/step - loss: 0.1570 - accuracy: 0.9166 - val_loss: 0.1525 - val_accuracy: 0.9196\n",
      "Epoch 3/20\n",
      "534895/534895 [==============================] - 1s 2us/step - loss: 0.1487 - accuracy: 0.9203 - val_loss: 0.1451 - val_accuracy: 0.9214\n",
      "Epoch 4/20\n",
      "534895/534895 [==============================] - 1s 2us/step - loss: 0.1429 - accuracy: 0.9222 - val_loss: 0.1399 - val_accuracy: 0.9246\n",
      "Epoch 5/20\n",
      "534895/534895 [==============================] - 1s 2us/step - loss: 0.1397 - accuracy: 0.9241 - val_loss: 0.1376 - val_accuracy: 0.9258\n",
      "Epoch 6/20\n",
      "534895/534895 [==============================] - 1s 2us/step - loss: 0.1344 - accuracy: 0.9280 - val_loss: 0.1301 - val_accuracy: 0.9323\n",
      "Epoch 7/20\n",
      "534895/534895 [==============================] - 1s 2us/step - loss: 0.1337 - accuracy: 0.9274 - val_loss: 0.1271 - val_accuracy: 0.9331\n",
      "Epoch 8/20\n",
      "534895/534895 [==============================] - 1s 2us/step - loss: 0.1274 - accuracy: 0.9313 - val_loss: 0.1265 - val_accuracy: 0.9331\n",
      "Epoch 9/20\n",
      "534895/534895 [==============================] - 1s 2us/step - loss: 0.1252 - accuracy: 0.9329 - val_loss: 0.1246 - val_accuracy: 0.9345\n",
      "Epoch 10/20\n",
      "534895/534895 [==============================] - 1s 2us/step - loss: 0.1235 - accuracy: 0.9334 - val_loss: 0.1233 - val_accuracy: 0.9349\n",
      "Epoch 11/20\n",
      "534895/534895 [==============================] - 1s 2us/step - loss: 0.1227 - accuracy: 0.9340 - val_loss: 0.1224 - val_accuracy: 0.9288\n",
      "Epoch 12/20\n",
      "534895/534895 [==============================] - 1s 2us/step - loss: 0.1207 - accuracy: 0.9351 - val_loss: 0.1224 - val_accuracy: 0.9345\n",
      "Epoch 13/20\n",
      "534895/534895 [==============================] - 1s 2us/step - loss: 0.1200 - accuracy: 0.9353 - val_loss: 0.1170 - val_accuracy: 0.9384\n",
      "Epoch 14/20\n",
      "534895/534895 [==============================] - 1s 2us/step - loss: 0.1188 - accuracy: 0.9364 - val_loss: 0.1220 - val_accuracy: 0.9342\n",
      "Epoch 15/20\n",
      "534895/534895 [==============================] - 1s 2us/step - loss: 0.1184 - accuracy: 0.9354 - val_loss: 0.1153 - val_accuracy: 0.9389\n",
      "Epoch 16/20\n",
      "534895/534895 [==============================] - 1s 2us/step - loss: 0.1196 - accuracy: 0.9352 - val_loss: 0.1186 - val_accuracy: 0.9360\n",
      "Epoch 17/20\n",
      "534895/534895 [==============================] - 1s 2us/step - loss: 0.1189 - accuracy: 0.9360 - val_loss: 0.1155 - val_accuracy: 0.9402\n",
      "Epoch 18/20\n",
      "534895/534895 [==============================] - 1s 2us/step - loss: 0.1166 - accuracy: 0.9365 - val_loss: 0.1160 - val_accuracy: 0.9357\n",
      "Epoch 19/20\n",
      "534895/534895 [==============================] - 1s 2us/step - loss: 0.1162 - accuracy: 0.9371 - val_loss: 0.1173 - val_accuracy: 0.9377\n",
      "Epoch 20/20\n",
      "534895/534895 [==============================] - 1s 2us/step - loss: 0.1170 - accuracy: 0.9366 - val_loss: 0.1161 - val_accuracy: 0.9383\n"
     ]
    }
   ],
   "source": [
    "# Setup some training parameters\n",
    "batch_size = 10000\n",
    "epochs = 20\n",
    "input_shape = Xtrain.shape[1]\n",
    "\n",
    "# Build and train model\n",
    "model8 = build_DNN(input_shape = input_shape,n_layers = 2,n_nodes = 20,learning_rate = 0.1,use_bn=False, act_fun = 'sigmoid',optimizer='adam')\n",
    "\n",
    "history8 = model8.fit(x = Xtrain, y = Ytrain, epochs = epochs, validation_data = (Xval,Yval),  \n",
    "                      batch_size = batch_size,\n",
    "                      class_weight = class_weight_balance)"
   ]
  },
  {
   "cell_type": "code",
   "execution_count": 69,
   "metadata": {},
   "outputs": [
    {
     "name": "stdout",
     "output_type": "stream",
     "text": [
      "114620/114620 [==============================] - 1s 13us/step\n",
      "Test loss: 0.1166\n",
      "Test accuracy: 0.9380\n"
     ]
    }
   ],
   "source": [
    "# Evaluate model on test data\n",
    "score = model8.evaluate(x = Xtest, y = Ytest)\n",
    "\n",
    "print('Test loss: %.4f' % score[0])\n",
    "print('Test accuracy: %.4f' % score[1])"
   ]
  },
  {
   "cell_type": "code",
   "execution_count": 70,
   "metadata": {},
   "outputs": [
    {
     "data": {
      "image/png": "[encoded data removed]",
      "text/plain": [
       "<Figure size 720x288 with 1 Axes>"
      ]
     },
     "metadata": {
      "needs_background": "light"
     },
     "output_type": "display_data"
    },
    {
     "data": {
      "image/png": "[encoded data removed]",
      "text/plain": [
       "<Figure size 720x288 with 1 Axes>"
      ]
     },
     "metadata": {
      "needs_background": "light"
     },
     "output_type": "display_data"
    }
   ],
   "source": [
    "plot_results(history8)"
   ]
  },
  {
   "cell_type": "markdown",
   "metadata": {},
   "source": [
    "# Part 19: Dropout regularization\n",
    "\n",
    "Dropout is a type of regularization that can improve accuracy for validation and test data. \n",
    "\n",
    "Add a Dropout layer after each Dense layer (but not after the final dense layer), with a dropout probability of 50%. Remember to first import the Dropout layer from keras.layers\n",
    "\n",
    "See https://keras.io/layers/core/ for how the Dropout layer works.\n",
    "\n",
    "---\n",
    "\n",
    "#### Question 19: How does the validation accuracy change when adding dropout?\n",
    "\n",
    "Answer: validation accuracy: 0.9007\n",
    "\n",
    "#### Question 20: How does the test accuracy change when adding dropout?\n",
    "\n",
    "Answer: Test accuracy: 0.9023"
   ]
  },
  {
   "cell_type": "markdown",
   "metadata": {},
   "source": [
    "### 2 layers, 20 nodes, class weights, dropout, SGD optimizer, no batch normalization, sigmoid activations"
   ]
  },
  {
   "cell_type": "code",
   "execution_count": 71,
   "metadata": {
    "scrolled": true
   },
   "outputs": [
    {
     "name": "stdout",
     "output_type": "stream",
     "text": [
      "Train on 534895 samples, validate on 114621 samples\n",
      "Epoch 1/20\n",
      "534895/534895 [==============================] - 1s 3us/step - loss: 0.4746 - accuracy: 0.8130 - val_loss: 0.3980 - val_accuracy: 0.8405\n",
      "Epoch 2/20\n",
      "534895/534895 [==============================] - 1s 2us/step - loss: 0.4185 - accuracy: 0.8399 - val_loss: 0.3676 - val_accuracy: 0.8405\n",
      "Epoch 3/20\n",
      "534895/534895 [==============================] - 1s 2us/step - loss: 0.3894 - accuracy: 0.8409 - val_loss: 0.3359 - val_accuracy: 0.8405\n",
      "Epoch 4/20\n",
      "534895/534895 [==============================] - 1s 2us/step - loss: 0.3626 - accuracy: 0.8419 - val_loss: 0.3035 - val_accuracy: 0.8405\n",
      "Epoch 5/20\n",
      "534895/534895 [==============================] - 1s 2us/step - loss: 0.3360 - accuracy: 0.8449 - val_loss: 0.2735 - val_accuracy: 0.8405\n",
      "Epoch 6/20\n",
      "534895/534895 [==============================] - 1s 2us/step - loss: 0.3143 - accuracy: 0.8483 - val_loss: 0.2491 - val_accuracy: 0.8405\n",
      "Epoch 7/20\n",
      "534895/534895 [==============================] - 1s 2us/step - loss: 0.2965 - accuracy: 0.8522 - val_loss: 0.2311 - val_accuracy: 0.8405\n",
      "Epoch 8/20\n",
      "534895/534895 [==============================] - 1s 2us/step - loss: 0.2823 - accuracy: 0.8557 - val_loss: 0.2183 - val_accuracy: 0.8405\n",
      "Epoch 9/20\n",
      "534895/534895 [==============================] - 1s 2us/step - loss: 0.2712 - accuracy: 0.8587 - val_loss: 0.2094 - val_accuracy: 0.8559\n",
      "Epoch 10/20\n",
      "534895/534895 [==============================] - 1s 2us/step - loss: 0.2634 - accuracy: 0.8599 - val_loss: 0.2032 - val_accuracy: 0.8643\n",
      "Epoch 11/20\n",
      "534895/534895 [==============================] - 1s 2us/step - loss: 0.2567 - accuracy: 0.8624 - val_loss: 0.1988 - val_accuracy: 0.8807\n",
      "Epoch 12/20\n",
      "534895/534895 [==============================] - 1s 2us/step - loss: 0.2517 - accuracy: 0.8632 - val_loss: 0.1956 - val_accuracy: 0.8976\n",
      "Epoch 13/20\n",
      "534895/534895 [==============================] - 1s 2us/step - loss: 0.2470 - accuracy: 0.8643 - val_loss: 0.1930 - val_accuracy: 0.9016\n",
      "Epoch 14/20\n",
      "534895/534895 [==============================] - 1s 2us/step - loss: 0.2429 - accuracy: 0.8653 - val_loss: 0.1911 - val_accuracy: 0.9031\n",
      "Epoch 15/20\n",
      "534895/534895 [==============================] - 1s 2us/step - loss: 0.2397 - accuracy: 0.8670 - val_loss: 0.1895 - val_accuracy: 0.9021\n",
      "Epoch 16/20\n",
      "534895/534895 [==============================] - 1s 2us/step - loss: 0.2371 - accuracy: 0.8671 - val_loss: 0.1884 - val_accuracy: 0.9018\n",
      "Epoch 17/20\n",
      "534895/534895 [==============================] - 1s 2us/step - loss: 0.2340 - accuracy: 0.8676 - val_loss: 0.1874 - val_accuracy: 0.9016\n",
      "Epoch 18/20\n",
      "534895/534895 [==============================] - 1s 2us/step - loss: 0.2316 - accuracy: 0.8687 - val_loss: 0.1866 - val_accuracy: 0.9015\n",
      "Epoch 19/20\n",
      "534895/534895 [==============================] - 1s 2us/step - loss: 0.2290 - accuracy: 0.8694 - val_loss: 0.1858 - val_accuracy: 0.9012\n",
      "Epoch 20/20\n",
      "534895/534895 [==============================] - 1s 2us/step - loss: 0.2275 - accuracy: 0.8703 - val_loss: 0.1851 - val_accuracy: 0.9010\n"
     ]
    }
   ],
   "source": [
    "# Setup some training parameters\n",
    "batch_size = 10000\n",
    "epochs = 20\n",
    "input_shape = Xtrain.shape[1]\n",
    "\n",
    "# Build and train model\n",
    "model9 = build_DNN(input_shape = input_shape,n_layers = 2,n_nodes = 20,learning_rate = 0.1,use_bn=False, \n",
    "                   act_fun = 'sigmoid',\n",
    "                   optimizer='sgd',\n",
    "                   use_dropout = True\n",
    "                  )\n",
    "\n",
    "history9 = model9.fit(x = Xtrain, y = Ytrain, epochs = epochs, validation_data = (Xval,Yval),  \n",
    "                      batch_size = batch_size,\n",
    "                      class_weight = class_weight_balance)"
   ]
  },
  {
   "cell_type": "code",
   "execution_count": 72,
   "metadata": {},
   "outputs": [
    {
     "name": "stdout",
     "output_type": "stream",
     "text": [
      "114620/114620 [==============================] - 2s 14us/step\n",
      "Test loss: 0.1870\n",
      "Test accuracy: 0.8989\n"
     ]
    }
   ],
   "source": [
    "# Evaluate model on test data\n",
    "score = model9.evaluate(x = Xtest, y = Ytest)\n",
    "\n",
    "print('Test loss: %.4f' % score[0])\n",
    "print('Test accuracy: %.4f' % score[1])"
   ]
  },
  {
   "cell_type": "code",
   "execution_count": 73,
   "metadata": {},
   "outputs": [
    {
     "data": {
      "image/png": "[encoded data removed]",
      "text/plain": [
       "<Figure size 720x288 with 1 Axes>"
      ]
     },
     "metadata": {
      "needs_background": "light"
     },
     "output_type": "display_data"
    },
    {
     "data": {
      "image/png": "[encoded data removed]",
      "text/plain": [
       "<Figure size 720x288 with 1 Axes>"
      ]
     },
     "metadata": {
      "needs_background": "light"
     },
     "output_type": "display_data"
    }
   ],
   "source": [
    "plot_results(history9)"
   ]
  },
  {
   "cell_type": "markdown",
   "metadata": {},
   "source": [
    "# Part 20: Improving performance\n",
    "\n",
    "Spend some time (30 - 90 minutes) playing with the network architecture (number of layers, number of nodes per layer, activation function) and other hyper parameters (optimizer, learning rate, batch size, number of epochs, degree of regularization). For example, try a much deeper network. How much does the training time increase for a network with 10 layers?\n",
    "\n",
    "#### Question 21: How high classification accuracy can you achieve for the test data? What is your best configuration?\n",
    "\n",
    "1. Accuracy and Loss for the best configuration:\n",
    "Test loss: 0.1193\n",
    "Test accuracy: 0.9354\n",
    "\n",
    "2. Best configuration with the lowest loss and high accuracy:\n",
    "batch_size = 10000\n",
    "epochs = 20\n",
    "n_layers = 2,\n",
    "n_nodes = 20,\n",
    "learning_rate = 0.1,\n",
    "use_bn=False, \n",
    "act_fun = 'sigmoid',\n",
    "optimizer='adam'\n"
   ]
  },
  {
   "cell_type": "code",
   "execution_count": 74,
   "metadata": {
    "scrolled": true
   },
   "outputs": [
    {
     "name": "stdout",
     "output_type": "stream",
     "text": [
      "Train on 534895 samples, validate on 114621 samples\n",
      "Epoch 1/20\n",
      "534895/534895 [==============================] - 1s 2us/step - loss: 0.2114 - accuracy: 0.8853 - val_loss: 0.1657 - val_accuracy: 0.9140\n",
      "Epoch 2/20\n",
      "534895/534895 [==============================] - 1s 2us/step - loss: 0.1588 - accuracy: 0.9162 - val_loss: 0.1528 - val_accuracy: 0.9191\n",
      "Epoch 3/20\n",
      "534895/534895 [==============================] - 1s 2us/step - loss: 0.1490 - accuracy: 0.9198 - val_loss: 0.1453 - val_accuracy: 0.9213\n",
      "Epoch 4/20\n",
      "534895/534895 [==============================] - 1s 2us/step - loss: 0.1438 - accuracy: 0.9210 - val_loss: 0.1448 - val_accuracy: 0.9197\n",
      "Epoch 5/20\n",
      "534895/534895 [==============================] - 1s 2us/step - loss: 0.1407 - accuracy: 0.9227 - val_loss: 0.1406 - val_accuracy: 0.9241\n",
      "Epoch 6/20\n",
      "534895/534895 [==============================] - 1s 2us/step - loss: 0.1381 - accuracy: 0.9249 - val_loss: 0.1355 - val_accuracy: 0.9232\n",
      "Epoch 7/20\n",
      "534895/534895 [==============================] - 1s 2us/step - loss: 0.1334 - accuracy: 0.9276 - val_loss: 0.1327 - val_accuracy: 0.9236\n",
      "Epoch 8/20\n",
      "534895/534895 [==============================] - 1s 2us/step - loss: 0.1298 - accuracy: 0.9299 - val_loss: 0.1360 - val_accuracy: 0.9209\n",
      "Epoch 9/20\n",
      "534895/534895 [==============================] - 1s 2us/step - loss: 0.1280 - accuracy: 0.9309 - val_loss: 0.1264 - val_accuracy: 0.9326\n",
      "Epoch 10/20\n",
      "534895/534895 [==============================] - 1s 2us/step - loss: 0.1253 - accuracy: 0.9319 - val_loss: 0.1252 - val_accuracy: 0.9327\n",
      "Epoch 11/20\n",
      "534895/534895 [==============================] - 1s 2us/step - loss: 0.1228 - accuracy: 0.9340 - val_loss: 0.1234 - val_accuracy: 0.9343\n",
      "Epoch 12/20\n",
      "534895/534895 [==============================] - 1s 2us/step - loss: 0.1227 - accuracy: 0.9334 - val_loss: 0.1186 - val_accuracy: 0.9371\n",
      "Epoch 13/20\n",
      "534895/534895 [==============================] - 1s 2us/step - loss: 0.1202 - accuracy: 0.9348 - val_loss: 0.1210 - val_accuracy: 0.9341\n",
      "Epoch 14/20\n",
      "534895/534895 [==============================] - 1s 2us/step - loss: 0.1188 - accuracy: 0.9359 - val_loss: 0.1172 - val_accuracy: 0.9358\n",
      "Epoch 15/20\n",
      "534895/534895 [==============================] - 1s 2us/step - loss: 0.1186 - accuracy: 0.9358 - val_loss: 0.1198 - val_accuracy: 0.9356\n",
      "Epoch 16/20\n",
      "534895/534895 [==============================] - 1s 2us/step - loss: 0.1193 - accuracy: 0.9355 - val_loss: 0.1232 - val_accuracy: 0.9303\n",
      "Epoch 17/20\n",
      "534895/534895 [==============================] - 1s 2us/step - loss: 0.1200 - accuracy: 0.9348 - val_loss: 0.1185 - val_accuracy: 0.9377\n",
      "Epoch 18/20\n",
      "534895/534895 [==============================] - 1s 2us/step - loss: 0.1186 - accuracy: 0.9357 - val_loss: 0.1161 - val_accuracy: 0.9372\n",
      "Epoch 19/20\n",
      "534895/534895 [==============================] - 1s 2us/step - loss: 0.1178 - accuracy: 0.9359 - val_loss: 0.1189 - val_accuracy: 0.9357\n",
      "Epoch 20/20\n",
      "534895/534895 [==============================] - 1s 2us/step - loss: 0.1175 - accuracy: 0.9366 - val_loss: 0.1213 - val_accuracy: 0.9359\n"
     ]
    }
   ],
   "source": [
    "# Find your best configuration for the DNN\n",
    "#input_shape = input_shape,n_layers = 2,n_nodes = 20,learning_rate = 0.1, use_bn=Tru\n",
    "#By comparing above results, best configuration with the less loss and high accuracy is for the configuration with 2 layes,20 nodes,\n",
    "#use batch normalization, and learning rate 0.1 \n",
    "\n",
    "# Build and train DNN\n",
    "model10 =  build_DNN(input_shape = input_shape,n_layers = 2,n_nodes = 20,learning_rate = 0.1,\n",
    "                     use_bn=False, act_fun = 'sigmoid',optimizer='adam') \n",
    "\n",
    "history10 = model10.fit(x = Xtrain, y = Ytrain, epochs = epochs, validation_data = (Xval,Yval),  \n",
    "                      batch_size = batch_size,\n",
    "                      class_weight = class_weight_balance)\n"
   ]
  },
  {
   "cell_type": "code",
   "execution_count": 75,
   "metadata": {},
   "outputs": [
    {
     "name": "stdout",
     "output_type": "stream",
     "text": [
      "114620/114620 [==============================] - 1s 12us/step\n",
      "Test loss: 0.1208\n",
      "Test accuracy: 0.9362\n"
     ]
    }
   ],
   "source": [
    "# Evaluate DNN on test data\n",
    "score = model10.evaluate(x = Xtest, y = Ytest)\n",
    "\n",
    "print('Test loss: %.4f' % score[0])\n",
    "print('Test accuracy: %.4f' % score[1])"
   ]
  },
  {
   "cell_type": "markdown",
   "metadata": {},
   "source": [
    "# Part 21: Dropout uncertainty\n",
    "\n",
    "Dropout can also be used during testing, to obtain an estimate of the model uncertainty. Since dropout will randomly remove connections, the network will produce different results every time the same (test) data is put into the network. This technique is called Monte Carlo dropout. For more information, see this paper http://proceedings.mlr.press/v48/gal16.pdf\n",
    "\n",
    "To achieve this, we need to redefine the Keras Dropout call by running the cell below, and use 'myDropout' in each call to Dropout, in the cell that defines the DNN.\n",
    "\n",
    "Run the same test data through the trained network 100 times, with dropout turned on. \n",
    "\n",
    "#### Question 22: What is the mean and the standard deviation of the test accuracy?\n",
    "Answer: please check in the blow box."
   ]
  },
  {
   "cell_type": "code",
   "execution_count": 76,
   "metadata": {},
   "outputs": [],
   "source": [
    "import keras\n",
    "import keras.backend as K\n",
    "\n",
    "class myDropout(keras.layers.Dropout):\n",
    "    \"\"\"Applies Dropout to the input.\n",
    "    Dropout consists in randomly setting\n",
    "    a fraction `rate` of input units to 0 at each update during training time,\n",
    "    which helps prevent overfitting.\n",
    "    # Arguments\n",
    "        rate: float between 0 and 1. Fraction of the input units to drop.\n",
    "        noise_shape: 1D integer tensor representing the shape of the\n",
    "            binary dropout mask that will be multiplied with the input.\n",
    "            For instance, if your inputs have shape\n",
    "            `(batch_size, timesteps, features)` and\n",
    "            you want the dropout mask to be the same for all timesteps,\n",
    "            you can use `noise_shape=(batch_size, 1, features)`.\n",
    "        seed: A Python integer to use as random seed.\n",
    "    # References\n",
    "        - [Dropout: A Simple Way to Prevent Neural Networks from Overfitting](\n",
    "           http://www.jmlr.org/papers/volume15/srivastava14a/srivastava14a.pdf)\n",
    "    \"\"\"\n",
    "    def __init__(self, rate, training=True, noise_shape=None, seed=None, **kwargs):\n",
    "        super(myDropout, self).__init__(rate, noise_shape=None, seed=None,**kwargs)\n",
    "        self.training = training\n",
    "\n",
    "        \n",
    "    def call(self, inputs, training=None):\n",
    "        if 0. < self.rate < 1.:\n",
    "            noise_shape = self._get_noise_shape(inputs)\n",
    "\n",
    "            def dropped_inputs():\n",
    "                return K.dropout(inputs, self.rate, noise_shape,seed=self.seed)\n",
    "            \n",
    "            if not training: \n",
    "                return K.in_train_phase(dropped_inputs, inputs, training=self.training)\n",
    "            \n",
    "            return K.in_train_phase(dropped_inputs, inputs, training=training)\n",
    "        return inputs"
   ]
  },
  {
   "cell_type": "markdown",
   "metadata": {},
   "source": [
    "### Your best config, custom dropout"
   ]
  },
  {
   "cell_type": "code",
   "execution_count": 77,
   "metadata": {
    "scrolled": true
   },
   "outputs": [
    {
     "name": "stdout",
     "output_type": "stream",
     "text": [
      "Train on 534895 samples, validate on 114621 samples\n",
      "Epoch 1/20\n",
      "534895/534895 [==============================] - 1s 2us/step - loss: 0.2409 - accuracy: 0.8654 - val_loss: 0.1796 - val_accuracy: 0.9009\n",
      "Epoch 2/20\n",
      "534895/534895 [==============================] - 1s 2us/step - loss: 0.1729 - accuracy: 0.9068 - val_loss: 0.1677 - val_accuracy: 0.9119\n",
      "Epoch 3/20\n",
      "534895/534895 [==============================] - 1s 2us/step - loss: 0.1653 - accuracy: 0.9127 - val_loss: 0.1628 - val_accuracy: 0.9145\n",
      "Epoch 4/20\n",
      "534895/534895 [==============================] - 1s 2us/step - loss: 0.1627 - accuracy: 0.9141 - val_loss: 0.1616 - val_accuracy: 0.9152\n",
      "Epoch 5/20\n",
      "534895/534895 [==============================] - 1s 2us/step - loss: 0.1622 - accuracy: 0.9141 - val_loss: 0.1616 - val_accuracy: 0.9152\n",
      "Epoch 6/20\n",
      "534895/534895 [==============================] - 1s 2us/step - loss: 0.1612 - accuracy: 0.9149 - val_loss: 0.1607 - val_accuracy: 0.9154\n",
      "Epoch 7/20\n",
      "534895/534895 [==============================] - 1s 2us/step - loss: 0.1608 - accuracy: 0.9149 - val_loss: 0.1595 - val_accuracy: 0.9163\n",
      "Epoch 8/20\n",
      "534895/534895 [==============================] - 1s 2us/step - loss: 0.1601 - accuracy: 0.9155 - val_loss: 0.1590 - val_accuracy: 0.9167\n",
      "Epoch 9/20\n",
      "534895/534895 [==============================] - 1s 2us/step - loss: 0.1594 - accuracy: 0.9157 - val_loss: 0.1577 - val_accuracy: 0.9169\n",
      "Epoch 10/20\n",
      "534895/534895 [==============================] - 1s 2us/step - loss: 0.1585 - accuracy: 0.9161 - val_loss: 0.1578 - val_accuracy: 0.9166\n",
      "Epoch 11/20\n",
      "534895/534895 [==============================] - 1s 2us/step - loss: 0.1582 - accuracy: 0.9160 - val_loss: 0.1575 - val_accuracy: 0.9170\n",
      "Epoch 12/20\n",
      "534895/534895 [==============================] - 1s 2us/step - loss: 0.1582 - accuracy: 0.9158 - val_loss: 0.1574 - val_accuracy: 0.9169\n",
      "Epoch 13/20\n",
      "534895/534895 [==============================] - 1s 2us/step - loss: 0.1572 - accuracy: 0.9161 - val_loss: 0.1564 - val_accuracy: 0.9167\n",
      "Epoch 14/20\n",
      "534895/534895 [==============================] - 1s 3us/step - loss: 0.1573 - accuracy: 0.9159 - val_loss: 0.1569 - val_accuracy: 0.9167\n",
      "Epoch 15/20\n",
      "534895/534895 [==============================] - 1s 2us/step - loss: 0.1565 - accuracy: 0.9164 - val_loss: 0.1555 - val_accuracy: 0.9174\n",
      "Epoch 16/20\n",
      "534895/534895 [==============================] - 1s 2us/step - loss: 0.1557 - accuracy: 0.9165 - val_loss: 0.1544 - val_accuracy: 0.9174\n",
      "Epoch 17/20\n",
      "534895/534895 [==============================] - 1s 2us/step - loss: 0.1559 - accuracy: 0.9164 - val_loss: 0.1553 - val_accuracy: 0.9169\n",
      "Epoch 18/20\n",
      "534895/534895 [==============================] - 1s 2us/step - loss: 0.1552 - accuracy: 0.9169 - val_loss: 0.1554 - val_accuracy: 0.9179\n",
      "Epoch 19/20\n",
      "534895/534895 [==============================] - 1s 2us/step - loss: 0.1552 - accuracy: 0.9170 - val_loss: 0.1546 - val_accuracy: 0.9182\n",
      "Epoch 20/20\n",
      "534895/534895 [==============================] - 1s 3us/step - loss: 0.1545 - accuracy: 0.9172 - val_loss: 0.1534 - val_accuracy: 0.9182\n"
     ]
    }
   ],
   "source": [
    "# Your best training parameters\n",
    "\n",
    "# Best config- model8: Test loss: 0.1186, Test accuracy: 0.9379\n",
    "\n",
    "\n",
    "# Build and train model\n",
    "model11 = build_DNN(input_shape = input_shape,n_layers = 2,\n",
    "                    n_nodes = 20,learning_rate = 0.1,\n",
    "                    use_bn=False, act_fun = 'sigmoid',optimizer='adam',\n",
    "                    use_custom_dropout=True\n",
    "                   )\n",
    "\n",
    "history11 = model11.fit(x = Xtrain, y = Ytrain, epochs = epochs, validation_data = (Xval,Yval),  \n",
    "                      batch_size = batch_size,\n",
    "                      class_weight = class_weight_balance)\n"
   ]
  },
  {
   "cell_type": "code",
   "execution_count": 78,
   "metadata": {},
   "outputs": [
    {
     "name": "stdout",
     "output_type": "stream",
     "text": [
      "114620/114620 [==============================] - 2s 17us/step\n",
      "Test accuracy: 0.9171\n"
     ]
    }
   ],
   "source": [
    "# Run this cell a few times to evalute the model on test data, \n",
    "# if you get slightly different test accuracy every time, Dropout during testing is working\n",
    "\n",
    "# Evaluate model on test data\n",
    "score = model11.evaluate(x = Xtest, y = Ytest)\n",
    "\n",
    "print('Test accuracy: %.4f' % score[1])\n"
   ]
  },
  {
   "cell_type": "code",
   "execution_count": 79,
   "metadata": {},
   "outputs": [
    {
     "name": "stdout",
     "output_type": "stream",
     "text": [
      "114620/114620 [==============================] - 2s 15us/step\n",
      "114620/114620 [==============================] - 2s 14us/step\n",
      "114620/114620 [==============================] - 2s 14us/step\n",
      "114620/114620 [==============================] - 2s 14us/step\n",
      "114620/114620 [==============================] - 2s 13us/step\n",
      "114620/114620 [==============================] - 2s 14us/step\n",
      "114620/114620 [==============================] - 2s 14us/step\n",
      "114620/114620 [==============================] - 2s 14us/step\n",
      "114620/114620 [==============================] - 2s 14us/step\n",
      "114620/114620 [==============================] - 2s 14us/step\n",
      "114620/114620 [==============================] - 2s 19us/step\n",
      "114620/114620 [==============================] - 2s 16us/step\n",
      "114620/114620 [==============================] - 2s 18us/step\n",
      "114620/114620 [==============================] - 2s 13us/step\n",
      "114620/114620 [==============================] - 2s 14us/step\n",
      "114620/114620 [==============================] - 2s 13us/step\n",
      "114620/114620 [==============================] - 2s 15us/step\n",
      "114620/114620 [==============================] - 2s 14us/step\n",
      "114620/114620 [==============================] - 2s 13us/step\n",
      "114620/114620 [==============================] - 2s 14us/step\n",
      "114620/114620 [==============================] - 1s 13us/step\n",
      "114620/114620 [==============================] - 2s 14us/step\n",
      "114620/114620 [==============================] - 2s 13us/step\n",
      "114620/114620 [==============================] - 2s 14us/step\n",
      "114620/114620 [==============================] - 2s 13us/step\n",
      "114620/114620 [==============================] - 2s 14us/step\n",
      "114620/114620 [==============================] - 2s 14us/step\n",
      "114620/114620 [==============================] - 2s 14us/step\n",
      "114620/114620 [==============================] - 2s 14us/step\n",
      "114620/114620 [==============================] - 2s 14us/step\n",
      "114620/114620 [==============================] - 2s 13us/step\n",
      "114620/114620 [==============================] - 1s 13us/step\n",
      "114620/114620 [==============================] - 2s 15us/step\n",
      "114620/114620 [==============================] - 1s 13us/step\n",
      "114620/114620 [==============================] - 2s 15us/step\n",
      "114620/114620 [==============================] - 2s 16us/step\n",
      "114620/114620 [==============================] - 2s 14us/step\n",
      "114620/114620 [==============================] - 1s 12us/step\n",
      "114620/114620 [==============================] - 1s 12us/step\n",
      "114620/114620 [==============================] - 2s 13us/step\n",
      "114620/114620 [==============================] - 1s 13us/step\n",
      "114620/114620 [==============================] - 2s 13us/step\n",
      "114620/114620 [==============================] - 2s 13us/step\n",
      "114620/114620 [==============================] - 1s 13us/step\n",
      "114620/114620 [==============================] - 1s 13us/step\n",
      "114620/114620 [==============================] - 1s 13us/step\n",
      "114620/114620 [==============================] - 1s 13us/step\n",
      "114620/114620 [==============================] - 2s 13us/step\n",
      "114620/114620 [==============================] - 2s 13us/step\n",
      "114620/114620 [==============================] - 1s 13us/step\n",
      "114620/114620 [==============================] - 1s 13us/step\n",
      "114620/114620 [==============================] - 2s 14us/step\n",
      "114620/114620 [==============================] - 2s 14us/step\n",
      "114620/114620 [==============================] - 2s 14us/step\n",
      "114620/114620 [==============================] - 2s 14us/step\n",
      "114620/114620 [==============================] - 2s 14us/step\n",
      "114620/114620 [==============================] - 2s 14us/step\n",
      "114620/114620 [==============================] - 2s 14us/step\n",
      "114620/114620 [==============================] - 2s 15us/step\n",
      "114620/114620 [==============================] - 2s 14us/step\n",
      "114620/114620 [==============================] - 2s 14us/step\n",
      "114620/114620 [==============================] - 2s 14us/step\n",
      "114620/114620 [==============================] - 2s 14us/step\n",
      "114620/114620 [==============================] - 2s 14us/step\n",
      "114620/114620 [==============================] - 2s 14us/step\n",
      "114620/114620 [==============================] - 2s 14us/step\n",
      "114620/114620 [==============================] - 2s 14us/step\n",
      "114620/114620 [==============================] - 2s 14us/step\n",
      "114620/114620 [==============================] - 2s 14us/step\n",
      "114620/114620 [==============================] - 2s 14us/step\n",
      "114620/114620 [==============================] - 2s 15us/step\n",
      "114620/114620 [==============================] - 2s 15us/step\n",
      "114620/114620 [==============================] - 2s 14us/step\n",
      "114620/114620 [==============================] - 2s 15us/step\n",
      "114620/114620 [==============================] - 2s 15us/step\n",
      "114620/114620 [==============================] - 2s 14us/step\n",
      "114620/114620 [==============================] - 2s 15us/step\n",
      "114620/114620 [==============================] - 2s 15us/step\n",
      "114620/114620 [==============================] - 2s 15us/step\n",
      "114620/114620 [==============================] - 2s 14us/step\n",
      "114620/114620 [==============================] - 2s 15us/step\n",
      "114620/114620 [==============================] - 2s 15us/step\n",
      "114620/114620 [==============================] - 2s 17us/step\n",
      "114620/114620 [==============================] - 2s 17us/step\n",
      "114620/114620 [==============================] - 2s 15us/step\n",
      "114620/114620 [==============================] - 2s 15us/step\n",
      "114620/114620 [==============================] - 2s 15us/step\n",
      "114620/114620 [==============================] - 2s 15us/step\n",
      "114620/114620 [==============================] - 2s 14us/step\n",
      "114620/114620 [==============================] - 2s 14us/step\n",
      "114620/114620 [==============================] - 2s 15us/step\n",
      "114620/114620 [==============================] - 2s 16us/step\n",
      "114620/114620 [==============================] - 2s 15us/step\n",
      "114620/114620 [==============================] - 2s 14us/step\n",
      "114620/114620 [==============================] - 2s 14us/step\n",
      "114620/114620 [==============================] - 2s 14us/step\n",
      "114620/114620 [==============================] - 2s 14us/step\n",
      "114620/114620 [==============================] - 2s 15us/step\n",
      "114620/114620 [==============================] - 2s 15us/step\n",
      "114620/114620 [==============================] - 2s 14us/step\n",
      "Accuracy mean: 0.917158\n",
      "Accuracy standard deviation: 0.000158\n"
     ]
    }
   ],
   "source": [
    "# Run the testing 100 times, and save the accuracies in an array\n",
    "\n",
    "acc_eval = [0] * 100\n",
    "\n",
    "for i in range(100):\n",
    "    score = model11.evaluate(x = Xtest, y = Ytest)\n",
    "    acc_eval[i] = score[1]\n",
    "\n",
    "# Calculate and print mean and std of accuracies\n",
    "               \n",
    "print('Accuracy mean: %f' % np.mean(acc_eval)) \n",
    "print('Accuracy standard deviation: %f' % np.std(acc_eval))"
   ]
  },
  {
   "cell_type": "markdown",
   "metadata": {},
   "source": [
    "# Part 22: Cross validation uncertainty\n",
    "\n",
    "Cross validation (CV) is often used to evaluate a model, by training and testing using different subsets of the data it is possible to get the uncertainty as the standard deviation over folds. We here use a help function from scikit-learn to setup the CV, see https://scikit-learn.org/stable/modules/generated/sklearn.model_selection.StratifiedKFold.html . Use 10 folds with shuffling, random state 1234. \n",
    "\n",
    "Note: We here assume that you have found the best hyper parameters, so here the data are only split into training and testing, no validation.\n",
    "\n",
    "---\n",
    "\n",
    "Question 23: What is the mean and the standard deviation of the test accuracy?\n",
    "\n",
    "Answer: Means and standard deviation for test accuracy are 0.8408398628234863 and 1.02200676199688e-06 respectively.\n",
    "\n",
    "Question 24: What is the main advantage of dropout compared to CV for estimating test uncertainty?\n",
    "\n",
    "Answer: Training speed with the dropout is faster as compare to CV. \n"
   ]
  },
  {
   "cell_type": "code",
   "execution_count": 80,
   "metadata": {},
   "outputs": [
    {
     "name": "stdout",
     "output_type": "stream",
     "text": [
      "Epoch 1/20\n",
      "687722/687722 [==============================] - 2s 2us/step - loss: 0.2696 - accuracy: 0.9047\n",
      "Epoch 2/20\n",
      "687722/687722 [==============================] - 1s 2us/step - loss: 0.1805 - accuracy: 0.9111\n",
      "Epoch 3/20\n",
      "687722/687722 [==============================] - 1s 2us/step - loss: 0.1685 - accuracy: 0.9134\n",
      "Epoch 4/20\n",
      "687722/687722 [==============================] - 1s 2us/step - loss: 0.1632 - accuracy: 0.9149\n",
      "Epoch 5/20\n",
      "687722/687722 [==============================] - 1s 2us/step - loss: 0.1599 - accuracy: 0.9159\n",
      "Epoch 6/20\n",
      "687722/687722 [==============================] - 1s 2us/step - loss: 0.1578 - accuracy: 0.9166\n",
      "Epoch 7/20\n",
      "687722/687722 [==============================] - 1s 2us/step - loss: 0.1560 - accuracy: 0.9173\n",
      "Epoch 8/20\n",
      "687722/687722 [==============================] - 1s 2us/step - loss: 0.1546 - accuracy: 0.9177\n",
      "Epoch 9/20\n",
      "687722/687722 [==============================] - 1s 2us/step - loss: 0.1533 - accuracy: 0.9183\n",
      "Epoch 10/20\n",
      "687722/687722 [==============================] - 1s 2us/step - loss: 0.1523 - accuracy: 0.9189\n",
      "Epoch 11/20\n",
      "687722/687722 [==============================] - 1s 2us/step - loss: 0.1517 - accuracy: 0.9188\n",
      "Epoch 12/20\n",
      "687722/687722 [==============================] - 1s 2us/step - loss: 0.1506 - accuracy: 0.9194\n",
      "Epoch 13/20\n",
      "687722/687722 [==============================] - 1s 2us/step - loss: 0.1498 - accuracy: 0.9198\n",
      "Epoch 14/20\n",
      "687722/687722 [==============================] - 1s 2us/step - loss: 0.1493 - accuracy: 0.9199\n",
      "Epoch 15/20\n",
      "687722/687722 [==============================] - 1s 2us/step - loss: 0.1485 - accuracy: 0.9200\n",
      "Epoch 16/20\n",
      "687722/687722 [==============================] - 1s 2us/step - loss: 0.1480 - accuracy: 0.9202\n",
      "Epoch 17/20\n",
      "687722/687722 [==============================] - 1s 2us/step - loss: 0.1475 - accuracy: 0.9206\n",
      "Epoch 18/20\n",
      "687722/687722 [==============================] - 1s 2us/step - loss: 0.1475 - accuracy: 0.9203\n",
      "Epoch 19/20\n",
      "687722/687722 [==============================] - 1s 2us/step - loss: 0.1469 - accuracy: 0.9206\n",
      "Epoch 20/20\n",
      "687722/687722 [==============================] - 1s 2us/step - loss: 0.1460 - accuracy: 0.9211\n",
      "76414/76414 [==============================] - 1s 17us/step\n",
      "Epoch 1/20\n",
      "687722/687722 [==============================] - 1s 2us/step - loss: 0.2734 - accuracy: 0.8983\n",
      "Epoch 2/20\n",
      "687722/687722 [==============================] - 1s 2us/step - loss: 0.1798 - accuracy: 0.9123\n",
      "Epoch 3/20\n",
      "687722/687722 [==============================] - 1s 2us/step - loss: 0.1682 - accuracy: 0.9134\n",
      "Epoch 4/20\n",
      "687722/687722 [==============================] - 1s 2us/step - loss: 0.1632 - accuracy: 0.9144\n",
      "Epoch 5/20\n",
      "687722/687722 [==============================] - 1s 2us/step - loss: 0.1601 - accuracy: 0.9153\n",
      "Epoch 6/20\n",
      "687722/687722 [==============================] - 1s 2us/step - loss: 0.1579 - accuracy: 0.9161\n",
      "Epoch 7/20\n",
      "687722/687722 [==============================] - 1s 2us/step - loss: 0.1563 - accuracy: 0.9170\n",
      "Epoch 8/20\n",
      "687722/687722 [==============================] - 1s 2us/step - loss: 0.1550 - accuracy: 0.9174\n",
      "Epoch 9/20\n",
      "687722/687722 [==============================] - 1s 2us/step - loss: 0.1540 - accuracy: 0.9180\n",
      "Epoch 10/20\n",
      "687722/687722 [==============================] - 1s 2us/step - loss: 0.1529 - accuracy: 0.9184\n",
      "Epoch 11/20\n",
      "687722/687722 [==============================] - 1s 2us/step - loss: 0.1520 - accuracy: 0.9189\n",
      "Epoch 12/20\n",
      "687722/687722 [==============================] - 1s 2us/step - loss: 0.1512 - accuracy: 0.9191\n",
      "Epoch 13/20\n",
      "687722/687722 [==============================] - 1s 2us/step - loss: 0.1506 - accuracy: 0.9195\n",
      "Epoch 14/20\n",
      "687722/687722 [==============================] - 1s 2us/step - loss: 0.1500 - accuracy: 0.9198\n",
      "Epoch 15/20\n",
      "687722/687722 [==============================] - 1s 2us/step - loss: 0.1493 - accuracy: 0.9202\n",
      "Epoch 16/20\n",
      "687722/687722 [==============================] - 1s 2us/step - loss: 0.1488 - accuracy: 0.9203\n",
      "Epoch 17/20\n",
      "687722/687722 [==============================] - 1s 2us/step - loss: 0.1482 - accuracy: 0.9207\n",
      "Epoch 18/20\n",
      "687722/687722 [==============================] - 1s 2us/step - loss: 0.1477 - accuracy: 0.9208\n",
      "Epoch 19/20\n",
      "687722/687722 [==============================] - 1s 2us/step - loss: 0.1469 - accuracy: 0.9214\n",
      "Epoch 20/20\n",
      "687722/687722 [==============================] - 1s 2us/step - loss: 0.1472 - accuracy: 0.9212\n",
      "76414/76414 [==============================] - 2s 20us/step\n",
      "Epoch 1/20\n",
      "687722/687722 [==============================] - 2s 2us/step - loss: 0.2609 - accuracy: 0.9029\n",
      "Epoch 2/20\n",
      "687722/687722 [==============================] - 1s 2us/step - loss: 0.1767 - accuracy: 0.9141\n",
      "Epoch 3/20\n",
      "687722/687722 [==============================] - 1s 2us/step - loss: 0.1661 - accuracy: 0.9153\n",
      "Epoch 4/20\n",
      "687722/687722 [==============================] - 1s 2us/step - loss: 0.1614 - accuracy: 0.9161\n",
      "Epoch 5/20\n",
      "687722/687722 [==============================] - 1s 2us/step - loss: 0.1585 - accuracy: 0.9170\n",
      "Epoch 6/20\n",
      "687722/687722 [==============================] - 1s 2us/step - loss: 0.1562 - accuracy: 0.9176\n",
      "Epoch 7/20\n",
      "687722/687722 [==============================] - 1s 2us/step - loss: 0.1545 - accuracy: 0.9180\n",
      "Epoch 8/20\n",
      "687722/687722 [==============================] - 1s 2us/step - loss: 0.1528 - accuracy: 0.9187\n",
      "Epoch 9/20\n",
      "687722/687722 [==============================] - 1s 2us/step - loss: 0.1515 - accuracy: 0.9191\n",
      "Epoch 10/20\n",
      "687722/687722 [==============================] - 1s 2us/step - loss: 0.1506 - accuracy: 0.9195\n",
      "Epoch 11/20\n",
      "687722/687722 [==============================] - 1s 2us/step - loss: 0.1493 - accuracy: 0.9203\n",
      "Epoch 12/20\n",
      "687722/687722 [==============================] - 1s 2us/step - loss: 0.1484 - accuracy: 0.9208\n",
      "Epoch 13/20\n",
      "687722/687722 [==============================] - 1s 2us/step - loss: 0.1475 - accuracy: 0.9211\n",
      "Epoch 14/20\n",
      "687722/687722 [==============================] - 1s 2us/step - loss: 0.1466 - accuracy: 0.9218\n",
      "Epoch 15/20\n",
      "687722/687722 [==============================] - 1s 2us/step - loss: 0.1458 - accuracy: 0.9222\n",
      "Epoch 16/20\n",
      "687722/687722 [==============================] - 1s 2us/step - loss: 0.1452 - accuracy: 0.9225\n",
      "Epoch 17/20\n",
      "687722/687722 [==============================] - 1s 2us/step - loss: 0.1447 - accuracy: 0.9228\n",
      "Epoch 18/20\n",
      "687722/687722 [==============================] - 1s 2us/step - loss: 0.1443 - accuracy: 0.9232\n",
      "Epoch 19/20\n",
      "687722/687722 [==============================] - 1s 2us/step - loss: 0.1434 - accuracy: 0.9234\n",
      "Epoch 20/20\n",
      "687722/687722 [==============================] - 1s 2us/step - loss: 0.1428 - accuracy: 0.9237\n",
      "76414/76414 [==============================] - 1s 20us/step\n",
      "Epoch 1/20\n",
      "687722/687722 [==============================] - 2s 2us/step - loss: 0.2742 - accuracy: 0.8975\n",
      "Epoch 2/20\n",
      "687722/687722 [==============================] - 1s 2us/step - loss: 0.1783 - accuracy: 0.9120\n",
      "Epoch 3/20\n",
      "687722/687722 [==============================] - 1s 2us/step - loss: 0.1662 - accuracy: 0.9144\n",
      "Epoch 4/20\n",
      "687722/687722 [==============================] - 1s 2us/step - loss: 0.1612 - accuracy: 0.9152\n",
      "Epoch 5/20\n",
      "687722/687722 [==============================] - 1s 2us/step - loss: 0.1581 - accuracy: 0.9159\n",
      "Epoch 6/20\n",
      "687722/687722 [==============================] - 1s 2us/step - loss: 0.1560 - accuracy: 0.9165\n",
      "Epoch 7/20\n",
      "687722/687722 [==============================] - 1s 2us/step - loss: 0.1543 - accuracy: 0.9171\n",
      "Epoch 8/20\n",
      "687722/687722 [==============================] - 1s 2us/step - loss: 0.1528 - accuracy: 0.9178\n",
      "Epoch 9/20\n",
      "687722/687722 [==============================] - 1s 2us/step - loss: 0.1516 - accuracy: 0.9185: 0s - loss: 0.1513 \n",
      "Epoch 10/20\n",
      "687722/687722 [==============================] - 1s 2us/step - loss: 0.1506 - accuracy: 0.9191\n",
      "Epoch 11/20\n",
      "687722/687722 [==============================] - 1s 2us/step - loss: 0.1498 - accuracy: 0.9196\n",
      "Epoch 12/20\n",
      "687722/687722 [==============================] - 1s 2us/step - loss: 0.1490 - accuracy: 0.9199\n",
      "Epoch 13/20\n",
      "687722/687722 [==============================] - 1s 2us/step - loss: 0.1483 - accuracy: 0.9202\n",
      "Epoch 14/20\n",
      "687722/687722 [==============================] - 1s 2us/step - loss: 0.1475 - accuracy: 0.9207\n",
      "Epoch 15/20\n",
      "687722/687722 [==============================] - 1s 2us/step - loss: 0.1471 - accuracy: 0.9208: 0s - loss: 0.147\n",
      "Epoch 16/20\n",
      "687722/687722 [==============================] - 1s 2us/step - loss: 0.1464 - accuracy: 0.9212\n",
      "Epoch 17/20\n",
      "687722/687722 [==============================] - 1s 2us/step - loss: 0.1459 - accuracy: 0.9215\n",
      "Epoch 18/20\n",
      "687722/687722 [==============================] - 1s 2us/step - loss: 0.1453 - accuracy: 0.9220\n",
      "Epoch 19/20\n",
      "687722/687722 [==============================] - 1s 2us/step - loss: 0.1453 - accuracy: 0.9218\n",
      "Epoch 20/20\n",
      "687722/687722 [==============================] - 1s 2us/step - loss: 0.1445 - accuracy: 0.9222\n",
      "76414/76414 [==============================] - 1s 18us/step\n",
      "Epoch 1/20\n",
      "687722/687722 [==============================] - 2s 2us/step - loss: 0.2682 - accuracy: 0.8997\n",
      "Epoch 2/20\n",
      "687722/687722 [==============================] - 1s 2us/step - loss: 0.1774 - accuracy: 0.9120\n",
      "Epoch 3/20\n",
      "687722/687722 [==============================] - 1s 2us/step - loss: 0.1666 - accuracy: 0.9143\n",
      "Epoch 4/20\n",
      "687722/687722 [==============================] - 1s 2us/step - loss: 0.1618 - accuracy: 0.9152\n",
      "Epoch 5/20\n",
      "687722/687722 [==============================] - 1s 2us/step - loss: 0.1589 - accuracy: 0.9161\n",
      "Epoch 6/20\n",
      "687722/687722 [==============================] - 1s 2us/step - loss: 0.1567 - accuracy: 0.9168: 0s - loss: 0.1566 - accuracy: \n",
      "Epoch 7/20\n",
      "687722/687722 [==============================] - 1s 2us/step - loss: 0.1550 - accuracy: 0.9175\n",
      "Epoch 8/20\n",
      "687722/687722 [==============================] - 1s 2us/step - loss: 0.1536 - accuracy: 0.9180\n",
      "Epoch 9/20\n",
      "687722/687722 [==============================] - 1s 2us/step - loss: 0.1523 - accuracy: 0.9186\n",
      "Epoch 10/20\n",
      "687722/687722 [==============================] - 1s 2us/step - loss: 0.1517 - accuracy: 0.9188\n",
      "Epoch 11/20\n",
      "687722/687722 [==============================] - 1s 2us/step - loss: 0.1507 - accuracy: 0.9192\n",
      "Epoch 12/20\n",
      "687722/687722 [==============================] - 1s 2us/step - loss: 0.1502 - accuracy: 0.9194\n",
      "Epoch 13/20\n",
      "687722/687722 [==============================] - 2s 2us/step - loss: 0.1488 - accuracy: 0.9200\n",
      "Epoch 14/20\n",
      "687722/687722 [==============================] - 1s 2us/step - loss: 0.1483 - accuracy: 0.9203\n",
      "Epoch 15/20\n",
      "687722/687722 [==============================] - 1s 2us/step - loss: 0.1479 - accuracy: 0.9204\n",
      "Epoch 16/20\n",
      "687722/687722 [==============================] - 1s 2us/step - loss: 0.1472 - accuracy: 0.9208\n",
      "Epoch 17/20\n",
      "687722/687722 [==============================] - 1s 2us/step - loss: 0.1467 - accuracy: 0.9212\n",
      "Epoch 18/20\n",
      "687722/687722 [==============================] - 1s 2us/step - loss: 0.1475 - accuracy: 0.9202: 0s - loss: 0.1474 - \n",
      "Epoch 19/20\n",
      "687722/687722 [==============================] - 1s 2us/step - loss: 0.1461 - accuracy: 0.9212\n",
      "Epoch 20/20\n",
      "687722/687722 [==============================] - 1s 2us/step - loss: 0.1459 - accuracy: 0.9213\n",
      "76414/76414 [==============================] - 1s 16us/step\n",
      "Epoch 1/20\n",
      "687722/687722 [==============================] - 1s 2us/step - loss: 0.2872 - accuracy: 0.8901\n",
      "Epoch 2/20\n",
      "687722/687722 [==============================] - 1s 2us/step - loss: 0.1816 - accuracy: 0.9108\n",
      "Epoch 3/20\n",
      "687722/687722 [==============================] - 1s 2us/step - loss: 0.1700 - accuracy: 0.9123\n",
      "Epoch 4/20\n",
      "687722/687722 [==============================] - 1s 2us/step - loss: 0.1650 - accuracy: 0.9134\n",
      "Epoch 5/20\n",
      "687722/687722 [==============================] - 1s 2us/step - loss: 0.1618 - accuracy: 0.9144\n",
      "Epoch 6/20\n",
      "687722/687722 [==============================] - 1s 2us/step - loss: 0.1596 - accuracy: 0.9152\n",
      "Epoch 7/20\n",
      "687722/687722 [==============================] - 2s 3us/step - loss: 0.1578 - accuracy: 0.9160\n",
      "Epoch 8/20\n",
      "687722/687722 [==============================] - 1s 2us/step - loss: 0.1563 - accuracy: 0.9165\n",
      "Epoch 9/20\n",
      "687722/687722 [==============================] - 1s 2us/step - loss: 0.1550 - accuracy: 0.9172\n",
      "Epoch 10/20\n",
      "687722/687722 [==============================] - 1s 2us/step - loss: 0.1539 - accuracy: 0.9178\n",
      "Epoch 11/20\n",
      "687722/687722 [==============================] - 2s 3us/step - loss: 0.1529 - accuracy: 0.9182\n",
      "Epoch 12/20\n",
      "687722/687722 [==============================] - 2s 3us/step - loss: 0.1521 - accuracy: 0.9184\n",
      "Epoch 13/20\n",
      "687722/687722 [==============================] - 1s 2us/step - loss: 0.1512 - accuracy: 0.9190\n",
      "Epoch 14/20\n",
      "687722/687722 [==============================] - 1s 2us/step - loss: 0.1502 - accuracy: 0.9192\n",
      "Epoch 15/20\n",
      "687722/687722 [==============================] - 1s 2us/step - loss: 0.1496 - accuracy: 0.9196\n",
      "Epoch 16/20\n",
      "687722/687722 [==============================] - 1s 2us/step - loss: 0.1489 - accuracy: 0.9198\n",
      "Epoch 17/20\n",
      "687722/687722 [==============================] - 1s 2us/step - loss: 0.1481 - accuracy: 0.9201\n",
      "Epoch 18/20\n",
      "687722/687722 [==============================] - 1s 2us/step - loss: 0.1474 - accuracy: 0.9205\n",
      "Epoch 19/20\n",
      "687722/687722 [==============================] - 1s 2us/step - loss: 0.1470 - accuracy: 0.9207\n",
      "Epoch 20/20\n",
      "687722/687722 [==============================] - 1s 2us/step - loss: 0.1465 - accuracy: 0.9210\n",
      "76414/76414 [==============================] - 1s 16us/step\n",
      "Epoch 1/20\n",
      "687723/687723 [==============================] - 2s 2us/step - loss: 0.2825 - accuracy: 0.8953\n",
      "Epoch 2/20\n",
      "687723/687723 [==============================] - 1s 2us/step - loss: 0.1829 - accuracy: 0.9108\n",
      "Epoch 3/20\n",
      "687723/687723 [==============================] - 1s 2us/step - loss: 0.1700 - accuracy: 0.9130\n",
      "Epoch 4/20\n",
      "687723/687723 [==============================] - 1s 2us/step - loss: 0.1639 - accuracy: 0.9146\n",
      "Epoch 5/20\n",
      "687723/687723 [==============================] - 1s 2us/step - loss: 0.1600 - accuracy: 0.9159\n",
      "Epoch 6/20\n",
      "687723/687723 [==============================] - 1s 2us/step - loss: 0.1576 - accuracy: 0.9168\n",
      "Epoch 7/20\n",
      "687723/687723 [==============================] - 1s 2us/step - loss: 0.1554 - accuracy: 0.9180\n",
      "Epoch 8/20\n",
      "687723/687723 [==============================] - 1s 2us/step - loss: 0.1539 - accuracy: 0.9182\n",
      "Epoch 9/20\n",
      "687723/687723 [==============================] - 1s 2us/step - loss: 0.1522 - accuracy: 0.9192\n",
      "Epoch 10/20\n",
      "687723/687723 [==============================] - 1s 2us/step - loss: 0.1521 - accuracy: 0.9187\n",
      "Epoch 11/20\n",
      "687723/687723 [==============================] - 1s 2us/step - loss: 0.1506 - accuracy: 0.9195\n",
      "Epoch 12/20\n",
      "687723/687723 [==============================] - 1s 2us/step - loss: 0.1501 - accuracy: 0.9195\n",
      "Epoch 13/20\n",
      "687723/687723 [==============================] - 1s 2us/step - loss: 0.1493 - accuracy: 0.9200\n",
      "Epoch 14/20\n",
      "687723/687723 [==============================] - 1s 2us/step - loss: 0.1488 - accuracy: 0.9201\n",
      "Epoch 15/20\n",
      "687723/687723 [==============================] - 1s 2us/step - loss: 0.1476 - accuracy: 0.9210\n",
      "Epoch 16/20\n",
      "687723/687723 [==============================] - 1s 2us/step - loss: 0.1479 - accuracy: 0.9203\n",
      "Epoch 17/20\n",
      "687723/687723 [==============================] - 1s 2us/step - loss: 0.1463 - accuracy: 0.9214\n",
      "Epoch 18/20\n",
      "687723/687723 [==============================] - 1s 2us/step - loss: 0.1463 - accuracy: 0.9209\n",
      "Epoch 19/20\n",
      "687723/687723 [==============================] - 1s 2us/step - loss: 0.1460 - accuracy: 0.9212\n",
      "Epoch 20/20\n",
      "687723/687723 [==============================] - 1s 2us/step - loss: 0.1452 - accuracy: 0.9219\n",
      "76413/76413 [==============================] - 1s 17us/step\n",
      "Epoch 1/20\n",
      "687723/687723 [==============================] - 1s 2us/step - loss: 0.2757 - accuracy: 0.8983\n",
      "Epoch 2/20\n",
      "687723/687723 [==============================] - 1s 2us/step - loss: 0.1814 - accuracy: 0.9118\n",
      "Epoch 3/20\n",
      "687723/687723 [==============================] - 1s 2us/step - loss: 0.1691 - accuracy: 0.9140\n",
      "Epoch 4/20\n",
      "687723/687723 [==============================] - 1s 2us/step - loss: 0.1637 - accuracy: 0.9153\n",
      "Epoch 5/20\n",
      "687723/687723 [==============================] - 1s 2us/step - loss: 0.1604 - accuracy: 0.9163\n",
      "Epoch 6/20\n",
      "687723/687723 [==============================] - 1s 2us/step - loss: 0.1581 - accuracy: 0.9170\n",
      "Epoch 7/20\n",
      "687723/687723 [==============================] - 2s 2us/step - loss: 0.1563 - accuracy: 0.9177\n",
      "Epoch 8/20\n",
      "687723/687723 [==============================] - 1s 2us/step - loss: 0.1548 - accuracy: 0.9182\n",
      "Epoch 9/20\n",
      "687723/687723 [==============================] - 1s 2us/step - loss: 0.1536 - accuracy: 0.9188\n",
      "Epoch 10/20\n",
      "687723/687723 [==============================] - 2s 3us/step - loss: 0.1523 - accuracy: 0.9195\n",
      "Epoch 11/20\n",
      "687723/687723 [==============================] - 1s 2us/step - loss: 0.1512 - accuracy: 0.9199\n",
      "Epoch 12/20\n",
      "687723/687723 [==============================] - 1s 2us/step - loss: 0.1504 - accuracy: 0.9204\n",
      "Epoch 13/20\n",
      "687723/687723 [==============================] - 1s 2us/step - loss: 0.1497 - accuracy: 0.9207\n",
      "Epoch 14/20\n",
      "687723/687723 [==============================] - 1s 2us/step - loss: 0.1488 - accuracy: 0.9212\n",
      "Epoch 15/20\n",
      "687723/687723 [==============================] - 1s 2us/step - loss: 0.1481 - accuracy: 0.9215\n",
      "Epoch 16/20\n",
      "687723/687723 [==============================] - 1s 2us/step - loss: 0.1473 - accuracy: 0.9221\n",
      "Epoch 17/20\n",
      "687723/687723 [==============================] - 1s 2us/step - loss: 0.1468 - accuracy: 0.9222\n",
      "Epoch 18/20\n",
      "687723/687723 [==============================] - 1s 2us/step - loss: 0.1468 - accuracy: 0.9219: 0s - loss: 0.1\n",
      "Epoch 19/20\n",
      "687723/687723 [==============================] - 1s 2us/step - loss: 0.1460 - accuracy: 0.9224\n",
      "Epoch 20/20\n",
      "687723/687723 [==============================] - 1s 2us/step - loss: 0.1453 - accuracy: 0.9228\n",
      "76413/76413 [==============================] - 1s 17us/step\n",
      "Epoch 1/20\n",
      "687723/687723 [==============================] - 1s 2us/step - loss: 0.2765 - accuracy: 0.8947\n",
      "Epoch 2/20\n",
      "687723/687723 [==============================] - 1s 2us/step - loss: 0.1795 - accuracy: 0.9119\n",
      "Epoch 3/20\n",
      "687723/687723 [==============================] - 1s 2us/step - loss: 0.1675 - accuracy: 0.9143\n",
      "Epoch 4/20\n",
      "687723/687723 [==============================] - 1s 2us/step - loss: 0.1623 - accuracy: 0.9155\n",
      "Epoch 5/20\n",
      "687723/687723 [==============================] - 1s 2us/step - loss: 0.1590 - accuracy: 0.9164\n",
      "Epoch 6/20\n",
      "687723/687723 [==============================] - 1s 2us/step - loss: 0.1568 - accuracy: 0.9170\n",
      "Epoch 7/20\n",
      "687723/687723 [==============================] - 1s 2us/step - loss: 0.1552 - accuracy: 0.9175\n",
      "Epoch 8/20\n",
      "687723/687723 [==============================] - 1s 2us/step - loss: 0.1539 - accuracy: 0.9180\n",
      "Epoch 9/20\n",
      "687723/687723 [==============================] - 1s 2us/step - loss: 0.1528 - accuracy: 0.9184\n",
      "Epoch 10/20\n",
      "687723/687723 [==============================] - 1s 2us/step - loss: 0.1518 - accuracy: 0.9189\n",
      "Epoch 11/20\n",
      "687723/687723 [==============================] - 1s 2us/step - loss: 0.1508 - accuracy: 0.9192\n",
      "Epoch 12/20\n",
      "687723/687723 [==============================] - 1s 2us/step - loss: 0.1501 - accuracy: 0.9197\n",
      "Epoch 13/20\n",
      "687723/687723 [==============================] - 1s 2us/step - loss: 0.1493 - accuracy: 0.9200\n",
      "Epoch 14/20\n",
      "687723/687723 [==============================] - 1s 2us/step - loss: 0.1488 - accuracy: 0.9205\n",
      "Epoch 15/20\n",
      "687723/687723 [==============================] - 1s 2us/step - loss: 0.1481 - accuracy: 0.9208\n",
      "Epoch 16/20\n",
      "687723/687723 [==============================] - 1s 2us/step - loss: 0.1475 - accuracy: 0.9210\n",
      "Epoch 17/20\n",
      "687723/687723 [==============================] - 1s 2us/step - loss: 0.1468 - accuracy: 0.9215\n",
      "Epoch 18/20\n",
      "687723/687723 [==============================] - 1s 2us/step - loss: 0.1466 - accuracy: 0.9217\n",
      "Epoch 19/20\n",
      "687723/687723 [==============================] - 1s 2us/step - loss: 0.1458 - accuracy: 0.9223\n",
      "Epoch 20/20\n",
      "687723/687723 [==============================] - 1s 2us/step - loss: 0.1455 - accuracy: 0.9224\n",
      "76413/76413 [==============================] - 1s 17us/step\n",
      "Epoch 1/20\n",
      "687723/687723 [==============================] - 1s 2us/step - loss: 0.2789 - accuracy: 0.8864\n",
      "Epoch 2/20\n",
      "687723/687723 [==============================] - 1s 2us/step - loss: 0.1836 - accuracy: 0.9077\n",
      "Epoch 3/20\n",
      "687723/687723 [==============================] - 1s 2us/step - loss: 0.1719 - accuracy: 0.9112\n",
      "Epoch 4/20\n",
      "687723/687723 [==============================] - 1s 2us/step - loss: 0.1667 - accuracy: 0.9130\n",
      "Epoch 5/20\n",
      "687723/687723 [==============================] - 1s 2us/step - loss: 0.1635 - accuracy: 0.9141\n",
      "Epoch 6/20\n",
      "687723/687723 [==============================] - 1s 2us/step - loss: 0.1612 - accuracy: 0.9151\n",
      "Epoch 7/20\n",
      "687723/687723 [==============================] - 1s 2us/step - loss: 0.1595 - accuracy: 0.9158\n",
      "Epoch 8/20\n",
      "687723/687723 [==============================] - 1s 2us/step - loss: 0.1581 - accuracy: 0.9165\n",
      "Epoch 9/20\n",
      "687723/687723 [==============================] - 1s 2us/step - loss: 0.1568 - accuracy: 0.9171\n",
      "Epoch 10/20\n",
      "687723/687723 [==============================] - 1s 2us/step - loss: 0.1559 - accuracy: 0.9175: 0s - loss: 0.1558 - \n",
      "Epoch 11/20\n",
      "687723/687723 [==============================] - 1s 2us/step - loss: 0.1552 - accuracy: 0.9178\n",
      "Epoch 12/20\n",
      "687723/687723 [==============================] - 2s 2us/step - loss: 0.1544 - accuracy: 0.9181\n",
      "Epoch 13/20\n",
      "687723/687723 [==============================] - 2s 2us/step - loss: 0.1538 - accuracy: 0.9182\n",
      "Epoch 14/20\n",
      "687723/687723 [==============================] - 2s 3us/step - loss: 0.1526 - accuracy: 0.9186\n",
      "Epoch 15/20\n",
      "687723/687723 [==============================] - 2s 2us/step - loss: 0.1519 - accuracy: 0.9189: 0s - loss: 0.1511 - \n",
      "Epoch 16/20\n",
      "687723/687723 [==============================] - 2s 2us/step - loss: 0.1514 - accuracy: 0.9190\n",
      "Epoch 17/20\n",
      "687723/687723 [==============================] - 1s 2us/step - loss: 0.1509 - accuracy: 0.9192\n",
      "Epoch 18/20\n",
      "687723/687723 [==============================] - 1s 2us/step - loss: 0.1503 - accuracy: 0.9195\n",
      "Epoch 19/20\n",
      "687723/687723 [==============================] - 2s 2us/step - loss: 0.1499 - accuracy: 0.9194\n",
      "Epoch 20/20\n",
      "687723/687723 [==============================] - 2s 2us/step - loss: 0.1496 - accuracy: 0.9195\n",
      "76413/76413 [==============================] - 2s 20us/step\n",
      "[0.9193080067634583, 0.9176459908485413, 0.9225273132324219, 0.9229984283447266, 0.9099903106689453, 0.92277592420578, 0.9196733832359314, 0.9248557090759277, 0.9223037958145142, 0.9201313853263855]\n"
     ]
    }
   ],
   "source": [
    "from sklearn.model_selection import StratifiedKFold\n",
    "import numpy as np\n",
    "\n",
    "# Define 10-fold cross validation\n",
    "cross_val = StratifiedKFold(n_splits=10, shuffle=True)\n",
    "acc_list = []\n",
    "# Loop over cross validation folds\n",
    "for tr_i, te_i in cross_val.split(x_f, y_int):   \n",
    "    # Calculate class weights for current split\n",
    "    class_weight_balance =  class_weight.compute_class_weight('balanced',np.unique(Ytrain[:,0]),Ytrain[:,0])\n",
    "\n",
    "    # Rebuild the DNN model, to not continue training on the previously trained model\n",
    "    # Build and train model\n",
    "    model12 = build_DNN(input_shape = input_shape,n_layers = 2,n_nodes = 20,learning_rate = 0.1, use_bn=True)\n",
    "    \n",
    "    # Fit the model with training set and class weights for this fold\n",
    "    #history12 = model12.fit(x = x_f[te_i], y = y_int[te_i], epochs = epochs, validation_data = (x_f[te_i],y_int[te_i]),  \n",
    "    #                  batch_size = batch_size,\n",
    "    #                  class_weight = class_weight_balance)\n",
    "    \n",
    "    history12 = model12.fit(x = x_f[tr_i], y = y_int[tr_i], epochs = epochs,batch_size = batch_size,class_weight = class_weight_balance)\n",
    "\n",
    "    # Evaluate the model using the test set for this fold\n",
    "    score = model12.evaluate(x = x_f[te_i], y = y_int[te_i])\n",
    "    # Save the test accuracy in an array\n",
    "    acc_list.append(score[1])\n",
    "# Calculate and print mean and std of accuracies\n",
    "\n",
    "print(acc_list)"
   ]
  },
  {
   "cell_type": "code",
   "execution_count": 81,
   "metadata": {},
   "outputs": [
    {
     "name": "stdout",
     "output_type": "stream",
     "text": [
      "0.9202210247516632\n",
      "0.003972638180471173\n"
     ]
    }
   ],
   "source": [
    "print(np.mean(acc_list))\n",
    "print(np.std(acc_list))"
   ]
  },
  {
   "cell_type": "markdown",
   "metadata": {},
   "source": [
    "# Part 23: DNN regression\n",
    "\n",
    "A similar DNN can be used for regression, instead of classification.\n",
    "\n",
    "Question 25: How would you change the DNN in order to use it for regression instead?"
   ]
  },
  {
   "cell_type": "markdown",
   "metadata": {},
   "source": [
    "Answer:\n",
    "We can use regression DNN by considering some factores, e.g. by not using any activation function at the end and also by usinng MSE as a loss function."
   ]
  },
  {
   "cell_type": "markdown",
   "metadata": {},
   "source": [
    "## Report\n",
    "\n",
    "Send in this jupyter notebook, with answers to all questions."
   ]
  }
 ],
 "metadata": {
  "kernelspec": {
   "display_name": "Python 3",
   "language": "python",
   "name": "python3"
  },
  "language_info": {
   "codemirror_mode": {
    "name": "ipython",
    "version": 3
   },
   "file_extension": ".py",
   "mimetype": "text/x-python",
   "name": "python",
   "nbconvert_exporter": "python",
   "pygments_lexer": "ipython3",
   "version": "3.7.7"
  }
 },
 "nbformat": 4,
 "nbformat_minor": 4
}
